{
  "nbformat": 4,
  "nbformat_minor": 0,
  "metadata": {
    "colab": {
      "provenance": []
    },
    "kernelspec": {
      "name": "python3",
      "display_name": "Python 3"
    },
    "language_info": {
      "name": "python"
    }
  },
  "cells": [
    {
      "cell_type": "code",
      "execution_count": null,
      "metadata": {
        "id": "gDw5F2Cd2IAD"
      },
      "outputs": [],
      "source": [
        "import pandas as pd\n",
        "import numpy as np\n",
        "from scipy.stats import binom,norm,poisson,geom\n",
        "\n"
      ]
    },
    {
      "cell_type": "code",
      "source": [
        "import matplotlib.pyplot as plt\n",
        "import seaborn as sns"
      ],
      "metadata": {
        "id": "ijalDG8f2VMw"
      },
      "execution_count": null,
      "outputs": []
    },
    {
      "cell_type": "code",
      "source": [
        "!wget https://d2beiqkhq929f0.cloudfront.net/public_assets/assets/000/001/293/original/walmart_data.csv?1641285094 -O walmart.csv"
      ],
      "metadata": {
        "colab": {
          "base_uri": "https://localhost:8080/"
        },
        "id": "d-tsxEUx2adu",
        "outputId": "59f68a47-5ed0-4d1a-cd1d-0f59541ecce3"
      },
      "execution_count": null,
      "outputs": [
        {
          "output_type": "stream",
          "name": "stdout",
          "text": [
            "--2023-01-15 20:11:20--  https://d2beiqkhq929f0.cloudfront.net/public_assets/assets/000/001/293/original/walmart_data.csv?1641285094\n",
            "Resolving d2beiqkhq929f0.cloudfront.net (d2beiqkhq929f0.cloudfront.net)... 108.157.172.173, 108.157.172.183, 108.157.172.10, ...\n",
            "Connecting to d2beiqkhq929f0.cloudfront.net (d2beiqkhq929f0.cloudfront.net)|108.157.172.173|:443... connected.\n",
            "HTTP request sent, awaiting response... 200 OK\n",
            "Length: 23027994 (22M) [text/plain]\n",
            "Saving to: ‘walmart.csv’\n",
            "\n",
            "walmart.csv         100%[===================>]  21.96M  81.5MB/s    in 0.3s    \n",
            "\n",
            "2023-01-15 20:11:20 (81.5 MB/s) - ‘walmart.csv’ saved [23027994/23027994]\n",
            "\n"
          ]
        }
      ]
    },
    {
      "cell_type": "code",
      "source": [
        "df = pd.read_csv(\"walmart.csv\")\n",
        "df.head()"
      ],
      "metadata": {
        "colab": {
          "base_uri": "https://localhost:8080/",
          "height": 206
        },
        "id": "uAzsnxMq2tdX",
        "outputId": "cf34e1af-7e78-479c-c69c-06a8aa7717f4"
      },
      "execution_count": null,
      "outputs": [
        {
          "output_type": "execute_result",
          "data": {
            "text/plain": [
              "   User_ID Product_ID Gender   Age  Occupation City_Category  \\\n",
              "0  1000001  P00069042      F  0-17          10             A   \n",
              "1  1000001  P00248942      F  0-17          10             A   \n",
              "2  1000001  P00087842      F  0-17          10             A   \n",
              "3  1000001  P00085442      F  0-17          10             A   \n",
              "4  1000002  P00285442      M   55+          16             C   \n",
              "\n",
              "  Stay_In_Current_City_Years  Marital_Status  Product_Category  Purchase  \n",
              "0                          2               0                 3      8370  \n",
              "1                          2               0                 1     15200  \n",
              "2                          2               0                12      1422  \n",
              "3                          2               0                12      1057  \n",
              "4                         4+               0                 8      7969  "
            ],
            "text/html": [
              "\n",
              "  <div id=\"df-9de92b29-b96a-4bc9-89f3-e6bc43a636b5\">\n",
              "    <div class=\"colab-df-container\">\n",
              "      <div>\n",
              "<style scoped>\n",
              "    .dataframe tbody tr th:only-of-type {\n",
              "        vertical-align: middle;\n",
              "    }\n",
              "\n",
              "    .dataframe tbody tr th {\n",
              "        vertical-align: top;\n",
              "    }\n",
              "\n",
              "    .dataframe thead th {\n",
              "        text-align: right;\n",
              "    }\n",
              "</style>\n",
              "<table border=\"1\" class=\"dataframe\">\n",
              "  <thead>\n",
              "    <tr style=\"text-align: right;\">\n",
              "      <th></th>\n",
              "      <th>User_ID</th>\n",
              "      <th>Product_ID</th>\n",
              "      <th>Gender</th>\n",
              "      <th>Age</th>\n",
              "      <th>Occupation</th>\n",
              "      <th>City_Category</th>\n",
              "      <th>Stay_In_Current_City_Years</th>\n",
              "      <th>Marital_Status</th>\n",
              "      <th>Product_Category</th>\n",
              "      <th>Purchase</th>\n",
              "    </tr>\n",
              "  </thead>\n",
              "  <tbody>\n",
              "    <tr>\n",
              "      <th>0</th>\n",
              "      <td>1000001</td>\n",
              "      <td>P00069042</td>\n",
              "      <td>F</td>\n",
              "      <td>0-17</td>\n",
              "      <td>10</td>\n",
              "      <td>A</td>\n",
              "      <td>2</td>\n",
              "      <td>0</td>\n",
              "      <td>3</td>\n",
              "      <td>8370</td>\n",
              "    </tr>\n",
              "    <tr>\n",
              "      <th>1</th>\n",
              "      <td>1000001</td>\n",
              "      <td>P00248942</td>\n",
              "      <td>F</td>\n",
              "      <td>0-17</td>\n",
              "      <td>10</td>\n",
              "      <td>A</td>\n",
              "      <td>2</td>\n",
              "      <td>0</td>\n",
              "      <td>1</td>\n",
              "      <td>15200</td>\n",
              "    </tr>\n",
              "    <tr>\n",
              "      <th>2</th>\n",
              "      <td>1000001</td>\n",
              "      <td>P00087842</td>\n",
              "      <td>F</td>\n",
              "      <td>0-17</td>\n",
              "      <td>10</td>\n",
              "      <td>A</td>\n",
              "      <td>2</td>\n",
              "      <td>0</td>\n",
              "      <td>12</td>\n",
              "      <td>1422</td>\n",
              "    </tr>\n",
              "    <tr>\n",
              "      <th>3</th>\n",
              "      <td>1000001</td>\n",
              "      <td>P00085442</td>\n",
              "      <td>F</td>\n",
              "      <td>0-17</td>\n",
              "      <td>10</td>\n",
              "      <td>A</td>\n",
              "      <td>2</td>\n",
              "      <td>0</td>\n",
              "      <td>12</td>\n",
              "      <td>1057</td>\n",
              "    </tr>\n",
              "    <tr>\n",
              "      <th>4</th>\n",
              "      <td>1000002</td>\n",
              "      <td>P00285442</td>\n",
              "      <td>M</td>\n",
              "      <td>55+</td>\n",
              "      <td>16</td>\n",
              "      <td>C</td>\n",
              "      <td>4+</td>\n",
              "      <td>0</td>\n",
              "      <td>8</td>\n",
              "      <td>7969</td>\n",
              "    </tr>\n",
              "  </tbody>\n",
              "</table>\n",
              "</div>\n",
              "      <button class=\"colab-df-convert\" onclick=\"convertToInteractive('df-9de92b29-b96a-4bc9-89f3-e6bc43a636b5')\"\n",
              "              title=\"Convert this dataframe to an interactive table.\"\n",
              "              style=\"display:none;\">\n",
              "        \n",
              "  <svg xmlns=\"http://www.w3.org/2000/svg\" height=\"24px\"viewBox=\"0 0 24 24\"\n",
              "       width=\"24px\">\n",
              "    <path d=\"M0 0h24v24H0V0z\" fill=\"none\"/>\n",
              "    <path d=\"M18.56 5.44l.94 2.06.94-2.06 2.06-.94-2.06-.94-.94-2.06-.94 2.06-2.06.94zm-11 1L8.5 8.5l.94-2.06 2.06-.94-2.06-.94L8.5 2.5l-.94 2.06-2.06.94zm10 10l.94 2.06.94-2.06 2.06-.94-2.06-.94-.94-2.06-.94 2.06-2.06.94z\"/><path d=\"M17.41 7.96l-1.37-1.37c-.4-.4-.92-.59-1.43-.59-.52 0-1.04.2-1.43.59L10.3 9.45l-7.72 7.72c-.78.78-.78 2.05 0 2.83L4 21.41c.39.39.9.59 1.41.59.51 0 1.02-.2 1.41-.59l7.78-7.78 2.81-2.81c.8-.78.8-2.07 0-2.86zM5.41 20L4 18.59l7.72-7.72 1.47 1.35L5.41 20z\"/>\n",
              "  </svg>\n",
              "      </button>\n",
              "      \n",
              "  <style>\n",
              "    .colab-df-container {\n",
              "      display:flex;\n",
              "      flex-wrap:wrap;\n",
              "      gap: 12px;\n",
              "    }\n",
              "\n",
              "    .colab-df-convert {\n",
              "      background-color: #E8F0FE;\n",
              "      border: none;\n",
              "      border-radius: 50%;\n",
              "      cursor: pointer;\n",
              "      display: none;\n",
              "      fill: #1967D2;\n",
              "      height: 32px;\n",
              "      padding: 0 0 0 0;\n",
              "      width: 32px;\n",
              "    }\n",
              "\n",
              "    .colab-df-convert:hover {\n",
              "      background-color: #E2EBFA;\n",
              "      box-shadow: 0px 1px 2px rgba(60, 64, 67, 0.3), 0px 1px 3px 1px rgba(60, 64, 67, 0.15);\n",
              "      fill: #174EA6;\n",
              "    }\n",
              "\n",
              "    [theme=dark] .colab-df-convert {\n",
              "      background-color: #3B4455;\n",
              "      fill: #D2E3FC;\n",
              "    }\n",
              "\n",
              "    [theme=dark] .colab-df-convert:hover {\n",
              "      background-color: #434B5C;\n",
              "      box-shadow: 0px 1px 3px 1px rgba(0, 0, 0, 0.15);\n",
              "      filter: drop-shadow(0px 1px 2px rgba(0, 0, 0, 0.3));\n",
              "      fill: #FFFFFF;\n",
              "    }\n",
              "  </style>\n",
              "\n",
              "      <script>\n",
              "        const buttonEl =\n",
              "          document.querySelector('#df-9de92b29-b96a-4bc9-89f3-e6bc43a636b5 button.colab-df-convert');\n",
              "        buttonEl.style.display =\n",
              "          google.colab.kernel.accessAllowed ? 'block' : 'none';\n",
              "\n",
              "        async function convertToInteractive(key) {\n",
              "          const element = document.querySelector('#df-9de92b29-b96a-4bc9-89f3-e6bc43a636b5');\n",
              "          const dataTable =\n",
              "            await google.colab.kernel.invokeFunction('convertToInteractive',\n",
              "                                                     [key], {});\n",
              "          if (!dataTable) return;\n",
              "\n",
              "          const docLinkHtml = 'Like what you see? Visit the ' +\n",
              "            '<a target=\"_blank\" href=https://colab.research.google.com/notebooks/data_table.ipynb>data table notebook</a>'\n",
              "            + ' to learn more about interactive tables.';\n",
              "          element.innerHTML = '';\n",
              "          dataTable['output_type'] = 'display_data';\n",
              "          await google.colab.output.renderOutput(dataTable, element);\n",
              "          const docLink = document.createElement('div');\n",
              "          docLink.innerHTML = docLinkHtml;\n",
              "          element.appendChild(docLink);\n",
              "        }\n",
              "      </script>\n",
              "    </div>\n",
              "  </div>\n",
              "  "
            ]
          },
          "metadata": {},
          "execution_count": 115
        }
      ]
    },
    {
      "cell_type": "code",
      "source": [
        "df.info()"
      ],
      "metadata": {
        "colab": {
          "base_uri": "https://localhost:8080/"
        },
        "id": "yPEAvYu521Ae",
        "outputId": "173b3686-3c44-4b86-80d7-c4e7b88a6147"
      },
      "execution_count": null,
      "outputs": [
        {
          "output_type": "stream",
          "name": "stdout",
          "text": [
            "<class 'pandas.core.frame.DataFrame'>\n",
            "RangeIndex: 550068 entries, 0 to 550067\n",
            "Data columns (total 10 columns):\n",
            " #   Column                      Non-Null Count   Dtype \n",
            "---  ------                      --------------   ----- \n",
            " 0   User_ID                     550068 non-null  int64 \n",
            " 1   Product_ID                  550068 non-null  object\n",
            " 2   Gender                      550068 non-null  object\n",
            " 3   Age                         550068 non-null  object\n",
            " 4   Occupation                  550068 non-null  int64 \n",
            " 5   City_Category               550068 non-null  object\n",
            " 6   Stay_In_Current_City_Years  550068 non-null  object\n",
            " 7   Marital_Status              550068 non-null  int64 \n",
            " 8   Product_Category            550068 non-null  int64 \n",
            " 9   Purchase                    550068 non-null  int64 \n",
            "dtypes: int64(5), object(5)\n",
            "memory usage: 42.0+ MB\n"
          ]
        }
      ]
    },
    {
      "cell_type": "code",
      "source": [
        "df.describe()"
      ],
      "metadata": {
        "colab": {
          "base_uri": "https://localhost:8080/",
          "height": 300
        },
        "id": "KZ0fOBQ822HS",
        "outputId": "eadb28dd-b2e0-4c32-fe58-f2dd42b3a1d9"
      },
      "execution_count": null,
      "outputs": [
        {
          "output_type": "execute_result",
          "data": {
            "text/plain": [
              "            User_ID     Occupation  Marital_Status  Product_Category  \\\n",
              "count  5.500680e+05  550068.000000   550068.000000     550068.000000   \n",
              "mean   1.003029e+06       8.076707        0.409653          5.404270   \n",
              "std    1.727592e+03       6.522660        0.491770          3.936211   \n",
              "min    1.000001e+06       0.000000        0.000000          1.000000   \n",
              "25%    1.001516e+06       2.000000        0.000000          1.000000   \n",
              "50%    1.003077e+06       7.000000        0.000000          5.000000   \n",
              "75%    1.004478e+06      14.000000        1.000000          8.000000   \n",
              "max    1.006040e+06      20.000000        1.000000         20.000000   \n",
              "\n",
              "            Purchase  \n",
              "count  550068.000000  \n",
              "mean     9263.968713  \n",
              "std      5023.065394  \n",
              "min        12.000000  \n",
              "25%      5823.000000  \n",
              "50%      8047.000000  \n",
              "75%     12054.000000  \n",
              "max     23961.000000  "
            ],
            "text/html": [
              "\n",
              "  <div id=\"df-ad7f7692-1751-426a-aec4-6f4453691cd7\">\n",
              "    <div class=\"colab-df-container\">\n",
              "      <div>\n",
              "<style scoped>\n",
              "    .dataframe tbody tr th:only-of-type {\n",
              "        vertical-align: middle;\n",
              "    }\n",
              "\n",
              "    .dataframe tbody tr th {\n",
              "        vertical-align: top;\n",
              "    }\n",
              "\n",
              "    .dataframe thead th {\n",
              "        text-align: right;\n",
              "    }\n",
              "</style>\n",
              "<table border=\"1\" class=\"dataframe\">\n",
              "  <thead>\n",
              "    <tr style=\"text-align: right;\">\n",
              "      <th></th>\n",
              "      <th>User_ID</th>\n",
              "      <th>Occupation</th>\n",
              "      <th>Marital_Status</th>\n",
              "      <th>Product_Category</th>\n",
              "      <th>Purchase</th>\n",
              "    </tr>\n",
              "  </thead>\n",
              "  <tbody>\n",
              "    <tr>\n",
              "      <th>count</th>\n",
              "      <td>5.500680e+05</td>\n",
              "      <td>550068.000000</td>\n",
              "      <td>550068.000000</td>\n",
              "      <td>550068.000000</td>\n",
              "      <td>550068.000000</td>\n",
              "    </tr>\n",
              "    <tr>\n",
              "      <th>mean</th>\n",
              "      <td>1.003029e+06</td>\n",
              "      <td>8.076707</td>\n",
              "      <td>0.409653</td>\n",
              "      <td>5.404270</td>\n",
              "      <td>9263.968713</td>\n",
              "    </tr>\n",
              "    <tr>\n",
              "      <th>std</th>\n",
              "      <td>1.727592e+03</td>\n",
              "      <td>6.522660</td>\n",
              "      <td>0.491770</td>\n",
              "      <td>3.936211</td>\n",
              "      <td>5023.065394</td>\n",
              "    </tr>\n",
              "    <tr>\n",
              "      <th>min</th>\n",
              "      <td>1.000001e+06</td>\n",
              "      <td>0.000000</td>\n",
              "      <td>0.000000</td>\n",
              "      <td>1.000000</td>\n",
              "      <td>12.000000</td>\n",
              "    </tr>\n",
              "    <tr>\n",
              "      <th>25%</th>\n",
              "      <td>1.001516e+06</td>\n",
              "      <td>2.000000</td>\n",
              "      <td>0.000000</td>\n",
              "      <td>1.000000</td>\n",
              "      <td>5823.000000</td>\n",
              "    </tr>\n",
              "    <tr>\n",
              "      <th>50%</th>\n",
              "      <td>1.003077e+06</td>\n",
              "      <td>7.000000</td>\n",
              "      <td>0.000000</td>\n",
              "      <td>5.000000</td>\n",
              "      <td>8047.000000</td>\n",
              "    </tr>\n",
              "    <tr>\n",
              "      <th>75%</th>\n",
              "      <td>1.004478e+06</td>\n",
              "      <td>14.000000</td>\n",
              "      <td>1.000000</td>\n",
              "      <td>8.000000</td>\n",
              "      <td>12054.000000</td>\n",
              "    </tr>\n",
              "    <tr>\n",
              "      <th>max</th>\n",
              "      <td>1.006040e+06</td>\n",
              "      <td>20.000000</td>\n",
              "      <td>1.000000</td>\n",
              "      <td>20.000000</td>\n",
              "      <td>23961.000000</td>\n",
              "    </tr>\n",
              "  </tbody>\n",
              "</table>\n",
              "</div>\n",
              "      <button class=\"colab-df-convert\" onclick=\"convertToInteractive('df-ad7f7692-1751-426a-aec4-6f4453691cd7')\"\n",
              "              title=\"Convert this dataframe to an interactive table.\"\n",
              "              style=\"display:none;\">\n",
              "        \n",
              "  <svg xmlns=\"http://www.w3.org/2000/svg\" height=\"24px\"viewBox=\"0 0 24 24\"\n",
              "       width=\"24px\">\n",
              "    <path d=\"M0 0h24v24H0V0z\" fill=\"none\"/>\n",
              "    <path d=\"M18.56 5.44l.94 2.06.94-2.06 2.06-.94-2.06-.94-.94-2.06-.94 2.06-2.06.94zm-11 1L8.5 8.5l.94-2.06 2.06-.94-2.06-.94L8.5 2.5l-.94 2.06-2.06.94zm10 10l.94 2.06.94-2.06 2.06-.94-2.06-.94-.94-2.06-.94 2.06-2.06.94z\"/><path d=\"M17.41 7.96l-1.37-1.37c-.4-.4-.92-.59-1.43-.59-.52 0-1.04.2-1.43.59L10.3 9.45l-7.72 7.72c-.78.78-.78 2.05 0 2.83L4 21.41c.39.39.9.59 1.41.59.51 0 1.02-.2 1.41-.59l7.78-7.78 2.81-2.81c.8-.78.8-2.07 0-2.86zM5.41 20L4 18.59l7.72-7.72 1.47 1.35L5.41 20z\"/>\n",
              "  </svg>\n",
              "      </button>\n",
              "      \n",
              "  <style>\n",
              "    .colab-df-container {\n",
              "      display:flex;\n",
              "      flex-wrap:wrap;\n",
              "      gap: 12px;\n",
              "    }\n",
              "\n",
              "    .colab-df-convert {\n",
              "      background-color: #E8F0FE;\n",
              "      border: none;\n",
              "      border-radius: 50%;\n",
              "      cursor: pointer;\n",
              "      display: none;\n",
              "      fill: #1967D2;\n",
              "      height: 32px;\n",
              "      padding: 0 0 0 0;\n",
              "      width: 32px;\n",
              "    }\n",
              "\n",
              "    .colab-df-convert:hover {\n",
              "      background-color: #E2EBFA;\n",
              "      box-shadow: 0px 1px 2px rgba(60, 64, 67, 0.3), 0px 1px 3px 1px rgba(60, 64, 67, 0.15);\n",
              "      fill: #174EA6;\n",
              "    }\n",
              "\n",
              "    [theme=dark] .colab-df-convert {\n",
              "      background-color: #3B4455;\n",
              "      fill: #D2E3FC;\n",
              "    }\n",
              "\n",
              "    [theme=dark] .colab-df-convert:hover {\n",
              "      background-color: #434B5C;\n",
              "      box-shadow: 0px 1px 3px 1px rgba(0, 0, 0, 0.15);\n",
              "      filter: drop-shadow(0px 1px 2px rgba(0, 0, 0, 0.3));\n",
              "      fill: #FFFFFF;\n",
              "    }\n",
              "  </style>\n",
              "\n",
              "      <script>\n",
              "        const buttonEl =\n",
              "          document.querySelector('#df-ad7f7692-1751-426a-aec4-6f4453691cd7 button.colab-df-convert');\n",
              "        buttonEl.style.display =\n",
              "          google.colab.kernel.accessAllowed ? 'block' : 'none';\n",
              "\n",
              "        async function convertToInteractive(key) {\n",
              "          const element = document.querySelector('#df-ad7f7692-1751-426a-aec4-6f4453691cd7');\n",
              "          const dataTable =\n",
              "            await google.colab.kernel.invokeFunction('convertToInteractive',\n",
              "                                                     [key], {});\n",
              "          if (!dataTable) return;\n",
              "\n",
              "          const docLinkHtml = 'Like what you see? Visit the ' +\n",
              "            '<a target=\"_blank\" href=https://colab.research.google.com/notebooks/data_table.ipynb>data table notebook</a>'\n",
              "            + ' to learn more about interactive tables.';\n",
              "          element.innerHTML = '';\n",
              "          dataTable['output_type'] = 'display_data';\n",
              "          await google.colab.output.renderOutput(dataTable, element);\n",
              "          const docLink = document.createElement('div');\n",
              "          docLink.innerHTML = docLinkHtml;\n",
              "          element.appendChild(docLink);\n",
              "        }\n",
              "      </script>\n",
              "    </div>\n",
              "  </div>\n",
              "  "
            ]
          },
          "metadata": {},
          "execution_count": 117
        }
      ]
    },
    {
      "cell_type": "markdown",
      "source": [
        "### Sum of Null values / Missing values in each column"
      ],
      "metadata": {
        "id": "wzgDAy3maVp9"
      }
    },
    {
      "cell_type": "code",
      "source": [
        "df.isnull().sum()"
      ],
      "metadata": {
        "colab": {
          "base_uri": "https://localhost:8080/"
        },
        "id": "_fIbcrL323dH",
        "outputId": "3f39023b-f82c-4dd2-9c58-9dd630680a87"
      },
      "execution_count": null,
      "outputs": [
        {
          "output_type": "execute_result",
          "data": {
            "text/plain": [
              "User_ID                       0\n",
              "Product_ID                    0\n",
              "Gender                        0\n",
              "Age                           0\n",
              "Occupation                    0\n",
              "City_Category                 0\n",
              "Stay_In_Current_City_Years    0\n",
              "Marital_Status                0\n",
              "Product_Category              0\n",
              "Purchase                      0\n",
              "dtype: int64"
            ]
          },
          "metadata": {},
          "execution_count": 118
        }
      ]
    },
    {
      "cell_type": "code",
      "source": [],
      "metadata": {
        "id": "ea6sbJWP3K6q"
      },
      "execution_count": null,
      "outputs": []
    },
    {
      "cell_type": "code",
      "source": [
        "df['Product_Category'] = df['Product_Category'].astype(object)\n",
        "df['Marital_Status'] = df['Marital_Status'].astype(object)\n",
        "df['User_ID'] = df['User_ID'].astype(object)\n",
        "df['Occupation'] = df['Occupation'].astype(object)\n"
      ],
      "metadata": {
        "id": "-61QpYz5N_cW"
      },
      "execution_count": null,
      "outputs": []
    },
    {
      "cell_type": "code",
      "source": [
        "  #describing the object columns\n",
        "df.describe(include = 'object')"
      ],
      "metadata": {
        "colab": {
          "base_uri": "https://localhost:8080/",
          "height": 175
        },
        "id": "pzaYJ6bUOtM8",
        "outputId": "8d4dbdb7-7203-4086-b1a2-c1c00ba5ab8d"
      },
      "execution_count": null,
      "outputs": [
        {
          "output_type": "execute_result",
          "data": {
            "text/plain": [
              "        User_ID Product_ID  Gender     Age  Occupation City_Category  \\\n",
              "count    550068     550068  550068  550068      550068        550068   \n",
              "unique     5891       3631       2       7          21             3   \n",
              "top     1001680  P00265242       M   26-35           4             B   \n",
              "freq       1026       1880  414259  219587       72308        231173   \n",
              "\n",
              "       Stay_In_Current_City_Years  Marital_Status  Product_Category  \n",
              "count                      550068          550068            550068  \n",
              "unique                          5               2                20  \n",
              "top                             1               0                 5  \n",
              "freq                       193821          324731            150933  "
            ],
            "text/html": [
              "\n",
              "  <div id=\"df-1f376019-528c-42f7-9cab-900da78a6532\">\n",
              "    <div class=\"colab-df-container\">\n",
              "      <div>\n",
              "<style scoped>\n",
              "    .dataframe tbody tr th:only-of-type {\n",
              "        vertical-align: middle;\n",
              "    }\n",
              "\n",
              "    .dataframe tbody tr th {\n",
              "        vertical-align: top;\n",
              "    }\n",
              "\n",
              "    .dataframe thead th {\n",
              "        text-align: right;\n",
              "    }\n",
              "</style>\n",
              "<table border=\"1\" class=\"dataframe\">\n",
              "  <thead>\n",
              "    <tr style=\"text-align: right;\">\n",
              "      <th></th>\n",
              "      <th>User_ID</th>\n",
              "      <th>Product_ID</th>\n",
              "      <th>Gender</th>\n",
              "      <th>Age</th>\n",
              "      <th>Occupation</th>\n",
              "      <th>City_Category</th>\n",
              "      <th>Stay_In_Current_City_Years</th>\n",
              "      <th>Marital_Status</th>\n",
              "      <th>Product_Category</th>\n",
              "    </tr>\n",
              "  </thead>\n",
              "  <tbody>\n",
              "    <tr>\n",
              "      <th>count</th>\n",
              "      <td>550068</td>\n",
              "      <td>550068</td>\n",
              "      <td>550068</td>\n",
              "      <td>550068</td>\n",
              "      <td>550068</td>\n",
              "      <td>550068</td>\n",
              "      <td>550068</td>\n",
              "      <td>550068</td>\n",
              "      <td>550068</td>\n",
              "    </tr>\n",
              "    <tr>\n",
              "      <th>unique</th>\n",
              "      <td>5891</td>\n",
              "      <td>3631</td>\n",
              "      <td>2</td>\n",
              "      <td>7</td>\n",
              "      <td>21</td>\n",
              "      <td>3</td>\n",
              "      <td>5</td>\n",
              "      <td>2</td>\n",
              "      <td>20</td>\n",
              "    </tr>\n",
              "    <tr>\n",
              "      <th>top</th>\n",
              "      <td>1001680</td>\n",
              "      <td>P00265242</td>\n",
              "      <td>M</td>\n",
              "      <td>26-35</td>\n",
              "      <td>4</td>\n",
              "      <td>B</td>\n",
              "      <td>1</td>\n",
              "      <td>0</td>\n",
              "      <td>5</td>\n",
              "    </tr>\n",
              "    <tr>\n",
              "      <th>freq</th>\n",
              "      <td>1026</td>\n",
              "      <td>1880</td>\n",
              "      <td>414259</td>\n",
              "      <td>219587</td>\n",
              "      <td>72308</td>\n",
              "      <td>231173</td>\n",
              "      <td>193821</td>\n",
              "      <td>324731</td>\n",
              "      <td>150933</td>\n",
              "    </tr>\n",
              "  </tbody>\n",
              "</table>\n",
              "</div>\n",
              "      <button class=\"colab-df-convert\" onclick=\"convertToInteractive('df-1f376019-528c-42f7-9cab-900da78a6532')\"\n",
              "              title=\"Convert this dataframe to an interactive table.\"\n",
              "              style=\"display:none;\">\n",
              "        \n",
              "  <svg xmlns=\"http://www.w3.org/2000/svg\" height=\"24px\"viewBox=\"0 0 24 24\"\n",
              "       width=\"24px\">\n",
              "    <path d=\"M0 0h24v24H0V0z\" fill=\"none\"/>\n",
              "    <path d=\"M18.56 5.44l.94 2.06.94-2.06 2.06-.94-2.06-.94-.94-2.06-.94 2.06-2.06.94zm-11 1L8.5 8.5l.94-2.06 2.06-.94-2.06-.94L8.5 2.5l-.94 2.06-2.06.94zm10 10l.94 2.06.94-2.06 2.06-.94-2.06-.94-.94-2.06-.94 2.06-2.06.94z\"/><path d=\"M17.41 7.96l-1.37-1.37c-.4-.4-.92-.59-1.43-.59-.52 0-1.04.2-1.43.59L10.3 9.45l-7.72 7.72c-.78.78-.78 2.05 0 2.83L4 21.41c.39.39.9.59 1.41.59.51 0 1.02-.2 1.41-.59l7.78-7.78 2.81-2.81c.8-.78.8-2.07 0-2.86zM5.41 20L4 18.59l7.72-7.72 1.47 1.35L5.41 20z\"/>\n",
              "  </svg>\n",
              "      </button>\n",
              "      \n",
              "  <style>\n",
              "    .colab-df-container {\n",
              "      display:flex;\n",
              "      flex-wrap:wrap;\n",
              "      gap: 12px;\n",
              "    }\n",
              "\n",
              "    .colab-df-convert {\n",
              "      background-color: #E8F0FE;\n",
              "      border: none;\n",
              "      border-radius: 50%;\n",
              "      cursor: pointer;\n",
              "      display: none;\n",
              "      fill: #1967D2;\n",
              "      height: 32px;\n",
              "      padding: 0 0 0 0;\n",
              "      width: 32px;\n",
              "    }\n",
              "\n",
              "    .colab-df-convert:hover {\n",
              "      background-color: #E2EBFA;\n",
              "      box-shadow: 0px 1px 2px rgba(60, 64, 67, 0.3), 0px 1px 3px 1px rgba(60, 64, 67, 0.15);\n",
              "      fill: #174EA6;\n",
              "    }\n",
              "\n",
              "    [theme=dark] .colab-df-convert {\n",
              "      background-color: #3B4455;\n",
              "      fill: #D2E3FC;\n",
              "    }\n",
              "\n",
              "    [theme=dark] .colab-df-convert:hover {\n",
              "      background-color: #434B5C;\n",
              "      box-shadow: 0px 1px 3px 1px rgba(0, 0, 0, 0.15);\n",
              "      filter: drop-shadow(0px 1px 2px rgba(0, 0, 0, 0.3));\n",
              "      fill: #FFFFFF;\n",
              "    }\n",
              "  </style>\n",
              "\n",
              "      <script>\n",
              "        const buttonEl =\n",
              "          document.querySelector('#df-1f376019-528c-42f7-9cab-900da78a6532 button.colab-df-convert');\n",
              "        buttonEl.style.display =\n",
              "          google.colab.kernel.accessAllowed ? 'block' : 'none';\n",
              "\n",
              "        async function convertToInteractive(key) {\n",
              "          const element = document.querySelector('#df-1f376019-528c-42f7-9cab-900da78a6532');\n",
              "          const dataTable =\n",
              "            await google.colab.kernel.invokeFunction('convertToInteractive',\n",
              "                                                     [key], {});\n",
              "          if (!dataTable) return;\n",
              "\n",
              "          const docLinkHtml = 'Like what you see? Visit the ' +\n",
              "            '<a target=\"_blank\" href=https://colab.research.google.com/notebooks/data_table.ipynb>data table notebook</a>'\n",
              "            + ' to learn more about interactive tables.';\n",
              "          element.innerHTML = '';\n",
              "          dataTable['output_type'] = 'display_data';\n",
              "          await google.colab.output.renderOutput(dataTable, element);\n",
              "          const docLink = document.createElement('div');\n",
              "          docLink.innerHTML = docLinkHtml;\n",
              "          element.appendChild(docLink);\n",
              "        }\n",
              "      </script>\n",
              "    </div>\n",
              "  </div>\n",
              "  "
            ]
          },
          "metadata": {},
          "execution_count": 120
        }
      ]
    },
    {
      "cell_type": "code",
      "source": [
        "df.shape"
      ],
      "metadata": {
        "colab": {
          "base_uri": "https://localhost:8080/"
        },
        "id": "ZoFb_2F7OvBT",
        "outputId": "4b923332-4518-4e7d-f9a5-f6459b873085"
      },
      "execution_count": null,
      "outputs": [
        {
          "output_type": "execute_result",
          "data": {
            "text/plain": [
              "(550068, 10)"
            ]
          },
          "metadata": {},
          "execution_count": 121
        }
      ]
    },
    {
      "cell_type": "code",
      "source": [
        "df.ndim"
      ],
      "metadata": {
        "colab": {
          "base_uri": "https://localhost:8080/"
        },
        "id": "We5sfiS7OyR9",
        "outputId": "00663dca-5016-4c53-8051-bb90131a8d02"
      },
      "execution_count": null,
      "outputs": [
        {
          "output_type": "execute_result",
          "data": {
            "text/plain": [
              "2"
            ]
          },
          "metadata": {},
          "execution_count": 122
        }
      ]
    },
    {
      "cell_type": "code",
      "source": [
        "#describing the numerical columns\n",
        "df.describe()"
      ],
      "metadata": {
        "colab": {
          "base_uri": "https://localhost:8080/",
          "height": 300
        },
        "id": "cfp7KUe1OzFN",
        "outputId": "9187bc34-4e7d-4b3d-a396-2254e06ccee9"
      },
      "execution_count": null,
      "outputs": [
        {
          "output_type": "execute_result",
          "data": {
            "text/plain": [
              "            Purchase\n",
              "count  550068.000000\n",
              "mean     9263.968713\n",
              "std      5023.065394\n",
              "min        12.000000\n",
              "25%      5823.000000\n",
              "50%      8047.000000\n",
              "75%     12054.000000\n",
              "max     23961.000000"
            ],
            "text/html": [
              "\n",
              "  <div id=\"df-95b8c437-5723-4fb4-b4a2-8d21e05e2267\">\n",
              "    <div class=\"colab-df-container\">\n",
              "      <div>\n",
              "<style scoped>\n",
              "    .dataframe tbody tr th:only-of-type {\n",
              "        vertical-align: middle;\n",
              "    }\n",
              "\n",
              "    .dataframe tbody tr th {\n",
              "        vertical-align: top;\n",
              "    }\n",
              "\n",
              "    .dataframe thead th {\n",
              "        text-align: right;\n",
              "    }\n",
              "</style>\n",
              "<table border=\"1\" class=\"dataframe\">\n",
              "  <thead>\n",
              "    <tr style=\"text-align: right;\">\n",
              "      <th></th>\n",
              "      <th>Purchase</th>\n",
              "    </tr>\n",
              "  </thead>\n",
              "  <tbody>\n",
              "    <tr>\n",
              "      <th>count</th>\n",
              "      <td>550068.000000</td>\n",
              "    </tr>\n",
              "    <tr>\n",
              "      <th>mean</th>\n",
              "      <td>9263.968713</td>\n",
              "    </tr>\n",
              "    <tr>\n",
              "      <th>std</th>\n",
              "      <td>5023.065394</td>\n",
              "    </tr>\n",
              "    <tr>\n",
              "      <th>min</th>\n",
              "      <td>12.000000</td>\n",
              "    </tr>\n",
              "    <tr>\n",
              "      <th>25%</th>\n",
              "      <td>5823.000000</td>\n",
              "    </tr>\n",
              "    <tr>\n",
              "      <th>50%</th>\n",
              "      <td>8047.000000</td>\n",
              "    </tr>\n",
              "    <tr>\n",
              "      <th>75%</th>\n",
              "      <td>12054.000000</td>\n",
              "    </tr>\n",
              "    <tr>\n",
              "      <th>max</th>\n",
              "      <td>23961.000000</td>\n",
              "    </tr>\n",
              "  </tbody>\n",
              "</table>\n",
              "</div>\n",
              "      <button class=\"colab-df-convert\" onclick=\"convertToInteractive('df-95b8c437-5723-4fb4-b4a2-8d21e05e2267')\"\n",
              "              title=\"Convert this dataframe to an interactive table.\"\n",
              "              style=\"display:none;\">\n",
              "        \n",
              "  <svg xmlns=\"http://www.w3.org/2000/svg\" height=\"24px\"viewBox=\"0 0 24 24\"\n",
              "       width=\"24px\">\n",
              "    <path d=\"M0 0h24v24H0V0z\" fill=\"none\"/>\n",
              "    <path d=\"M18.56 5.44l.94 2.06.94-2.06 2.06-.94-2.06-.94-.94-2.06-.94 2.06-2.06.94zm-11 1L8.5 8.5l.94-2.06 2.06-.94-2.06-.94L8.5 2.5l-.94 2.06-2.06.94zm10 10l.94 2.06.94-2.06 2.06-.94-2.06-.94-.94-2.06-.94 2.06-2.06.94z\"/><path d=\"M17.41 7.96l-1.37-1.37c-.4-.4-.92-.59-1.43-.59-.52 0-1.04.2-1.43.59L10.3 9.45l-7.72 7.72c-.78.78-.78 2.05 0 2.83L4 21.41c.39.39.9.59 1.41.59.51 0 1.02-.2 1.41-.59l7.78-7.78 2.81-2.81c.8-.78.8-2.07 0-2.86zM5.41 20L4 18.59l7.72-7.72 1.47 1.35L5.41 20z\"/>\n",
              "  </svg>\n",
              "      </button>\n",
              "      \n",
              "  <style>\n",
              "    .colab-df-container {\n",
              "      display:flex;\n",
              "      flex-wrap:wrap;\n",
              "      gap: 12px;\n",
              "    }\n",
              "\n",
              "    .colab-df-convert {\n",
              "      background-color: #E8F0FE;\n",
              "      border: none;\n",
              "      border-radius: 50%;\n",
              "      cursor: pointer;\n",
              "      display: none;\n",
              "      fill: #1967D2;\n",
              "      height: 32px;\n",
              "      padding: 0 0 0 0;\n",
              "      width: 32px;\n",
              "    }\n",
              "\n",
              "    .colab-df-convert:hover {\n",
              "      background-color: #E2EBFA;\n",
              "      box-shadow: 0px 1px 2px rgba(60, 64, 67, 0.3), 0px 1px 3px 1px rgba(60, 64, 67, 0.15);\n",
              "      fill: #174EA6;\n",
              "    }\n",
              "\n",
              "    [theme=dark] .colab-df-convert {\n",
              "      background-color: #3B4455;\n",
              "      fill: #D2E3FC;\n",
              "    }\n",
              "\n",
              "    [theme=dark] .colab-df-convert:hover {\n",
              "      background-color: #434B5C;\n",
              "      box-shadow: 0px 1px 3px 1px rgba(0, 0, 0, 0.15);\n",
              "      filter: drop-shadow(0px 1px 2px rgba(0, 0, 0, 0.3));\n",
              "      fill: #FFFFFF;\n",
              "    }\n",
              "  </style>\n",
              "\n",
              "      <script>\n",
              "        const buttonEl =\n",
              "          document.querySelector('#df-95b8c437-5723-4fb4-b4a2-8d21e05e2267 button.colab-df-convert');\n",
              "        buttonEl.style.display =\n",
              "          google.colab.kernel.accessAllowed ? 'block' : 'none';\n",
              "\n",
              "        async function convertToInteractive(key) {\n",
              "          const element = document.querySelector('#df-95b8c437-5723-4fb4-b4a2-8d21e05e2267');\n",
              "          const dataTable =\n",
              "            await google.colab.kernel.invokeFunction('convertToInteractive',\n",
              "                                                     [key], {});\n",
              "          if (!dataTable) return;\n",
              "\n",
              "          const docLinkHtml = 'Like what you see? Visit the ' +\n",
              "            '<a target=\"_blank\" href=https://colab.research.google.com/notebooks/data_table.ipynb>data table notebook</a>'\n",
              "            + ' to learn more about interactive tables.';\n",
              "          element.innerHTML = '';\n",
              "          dataTable['output_type'] = 'display_data';\n",
              "          await google.colab.output.renderOutput(dataTable, element);\n",
              "          const docLink = document.createElement('div');\n",
              "          docLink.innerHTML = docLinkHtml;\n",
              "          element.appendChild(docLink);\n",
              "        }\n",
              "      </script>\n",
              "    </div>\n",
              "  </div>\n",
              "  "
            ]
          },
          "metadata": {},
          "execution_count": 123
        }
      ]
    },
    {
      "cell_type": "markdown",
      "source": [
        "# Unique value and Value Counts"
      ],
      "metadata": {
        "id": "yM9TDEobPEHX"
      }
    },
    {
      "cell_type": "code",
      "source": [
        "df.Gender.value_counts()"
      ],
      "metadata": {
        "colab": {
          "base_uri": "https://localhost:8080/"
        },
        "id": "Mr8W_IrLPIb7",
        "outputId": "9267fc87-2e5e-46fd-92c5-13a355276c17"
      },
      "execution_count": null,
      "outputs": [
        {
          "output_type": "execute_result",
          "data": {
            "text/plain": [
              "M    414259\n",
              "F    135809\n",
              "Name: Gender, dtype: int64"
            ]
          },
          "metadata": {},
          "execution_count": 124
        }
      ]
    },
    {
      "cell_type": "code",
      "source": [
        "df.columns"
      ],
      "metadata": {
        "colab": {
          "base_uri": "https://localhost:8080/"
        },
        "id": "kQjz-26nPL-e",
        "outputId": "99614ad6-8ccf-47bf-c5e1-1a0f6501bf5c"
      },
      "execution_count": null,
      "outputs": [
        {
          "output_type": "execute_result",
          "data": {
            "text/plain": [
              "Index(['User_ID', 'Product_ID', 'Gender', 'Age', 'Occupation', 'City_Category',\n",
              "       'Stay_In_Current_City_Years', 'Marital_Status', 'Product_Category',\n",
              "       'Purchase'],\n",
              "      dtype='object')"
            ]
          },
          "metadata": {},
          "execution_count": 125
        }
      ]
    },
    {
      "cell_type": "code",
      "source": [
        "df.Age.value_counts()"
      ],
      "metadata": {
        "colab": {
          "base_uri": "https://localhost:8080/"
        },
        "id": "6i57qD1JPORX",
        "outputId": "aeee6c41-30c7-4cef-9214-a9651e403be6"
      },
      "execution_count": null,
      "outputs": [
        {
          "output_type": "execute_result",
          "data": {
            "text/plain": [
              "26-35    219587\n",
              "36-45    110013\n",
              "18-25     99660\n",
              "46-50     45701\n",
              "51-55     38501\n",
              "55+       21504\n",
              "0-17      15102\n",
              "Name: Age, dtype: int64"
            ]
          },
          "metadata": {},
          "execution_count": 126
        }
      ]
    },
    {
      "cell_type": "code",
      "source": [
        "df.City_Category.value_counts()"
      ],
      "metadata": {
        "colab": {
          "base_uri": "https://localhost:8080/"
        },
        "id": "-M48omegPRRk",
        "outputId": "2bfecd3f-30d8-4996-b4ef-ceef7aeb1b2c"
      },
      "execution_count": null,
      "outputs": [
        {
          "output_type": "execute_result",
          "data": {
            "text/plain": [
              "B    231173\n",
              "C    171175\n",
              "A    147720\n",
              "Name: City_Category, dtype: int64"
            ]
          },
          "metadata": {},
          "execution_count": 127
        }
      ]
    },
    {
      "cell_type": "code",
      "source": [
        "sns.countplot(x='Gender', data=df)\n",
        "plt.show()"
      ],
      "metadata": {
        "colab": {
          "base_uri": "https://localhost:8080/",
          "height": 279
        },
        "id": "hx17M0dZPZ9K",
        "outputId": "f9e5365a-0878-4781-f075-c921b55373f0"
      },
      "execution_count": null,
      "outputs": [
        {
          "output_type": "display_data",
          "data": {
            "text/plain": [
              "<Figure size 432x288 with 1 Axes>"
            ],
            "image/png": "[encoded data removed]"
          },
          "metadata": {
            "needs_background": "light"
          }
        }
      ]
    },
    {
      "cell_type": "code",
      "source": [
        "males = (df.Gender.value_counts()['M']/df.shape[0]) * 100\n",
        "females = (df.Gender.value_counts()['F']/df.shape[0]) * 100\n",
        "print(f\"{round(males,2)}% of the customers are Male and {round(females,2)}% of the customers are female.\")"
      ],
      "metadata": {
        "colab": {
          "base_uri": "https://localhost:8080/"
        },
        "id": "gu6_wmkmPxPh",
        "outputId": "eb180981-e5f3-4f59-9d02-cdec02dac4ff"
      },
      "execution_count": null,
      "outputs": [
        {
          "output_type": "stream",
          "name": "stdout",
          "text": [
            "75.31% of the customers are Male and 24.69% of the customers are female.\n"
          ]
        }
      ]
    },
    {
      "cell_type": "code",
      "source": [
        "print(df.Age.value_counts(normalize=True))\n",
        "\n",
        "sns.countplot(x='Age', data=df)\n",
        "plt.show()\n",
        "\"\"\"\n",
        "Most of the people lies in the age group of 26-35 which is nearly 39.92% of the total customers.\n",
        "\"\"\"\n"
      ],
      "metadata": {
        "colab": {
          "base_uri": "https://localhost:8080/",
          "height": 436
        },
        "id": "xcxDmUISQfs1",
        "outputId": "cdb12cda-97c0-4d72-c74e-c2113b253bd4"
      },
      "execution_count": null,
      "outputs": [
        {
          "output_type": "stream",
          "name": "stdout",
          "text": [
            "26-35    0.399200\n",
            "36-45    0.199999\n",
            "18-25    0.181178\n",
            "46-50    0.083082\n",
            "51-55    0.069993\n",
            "55+      0.039093\n",
            "0-17     0.027455\n",
            "Name: Age, dtype: float64\n"
          ]
        },
        {
          "output_type": "display_data",
          "data": {
            "text/plain": [
              "<Figure size 432x288 with 1 Axes>"
            ],
            "image/png": "[encoded data removed]"
          },
          "metadata": {
            "needs_background": "light"
          }
        },
        {
          "output_type": "execute_result",
          "data": {
            "text/plain": [
              "'\\nMost of the people lies in the age group of 26-35 which is nearly 39.92% of the total customers.\\n'"
            ],
            "application/vnd.google.colaboratory.intrinsic+json": {
              "type": "string"
            }
          },
          "metadata": {},
          "execution_count": 130
        }
      ]
    },
    {
      "cell_type": "code",
      "source": [
        "print(df.City_Category.value_counts())\n",
        "print(df.City_Category.value_counts(normalize=True))\n",
        "\n",
        "sns.countplot(x='City_Category', data=df)\n",
        "plt.show()\n",
        "\"\"\"\n",
        "Most of the people lies in the city B which is nearly accounts for 42.03% of the total customers\n",
        "\"\"\"\n"
      ],
      "metadata": {
        "colab": {
          "base_uri": "https://localhost:8080/",
          "height": 437
        },
        "id": "U426qPs-RRcx",
        "outputId": "691221e6-8c45-4d98-a4aa-e2a39a753215"
      },
      "execution_count": null,
      "outputs": [
        {
          "output_type": "stream",
          "name": "stdout",
          "text": [
            "B    231173\n",
            "C    171175\n",
            "A    147720\n",
            "Name: City_Category, dtype: int64\n",
            "B    0.420263\n",
            "C    0.311189\n",
            "A    0.268549\n",
            "Name: City_Category, dtype: float64\n"
          ]
        },
        {
          "output_type": "display_data",
          "data": {
            "text/plain": [
              "<Figure size 432x288 with 1 Axes>"
            ],
            "image/png": "[encoded data removed]"
          },
          "metadata": {
            "needs_background": "light"
          }
        },
        {
          "output_type": "execute_result",
          "data": {
            "text/plain": [
              "'\\nMost of the people lies in the city B which is nearly accounts for 42.03% of the total customers\\n'"
            ],
            "application/vnd.google.colaboratory.intrinsic+json": {
              "type": "string"
            }
          },
          "metadata": {},
          "execution_count": 131
        }
      ]
    },
    {
      "cell_type": "code",
      "source": [
        "print(df.Stay_In_Current_City_Years.value_counts())\n",
        "print(df.Stay_In_Current_City_Years.value_counts(normalize=True))\n",
        "\n",
        "sns.countplot(x='Stay_In_Current_City_Years', data=df)\n",
        "plt.show()\n",
        "\"\"\"\n",
        "Most of the people have newly migrated to the current city in which they are living and its been an year since living in the state.\n",
        "\"\"\"\n"
      ],
      "metadata": {
        "colab": {
          "base_uri": "https://localhost:8080/",
          "height": 507
        },
        "id": "q8a023wWRRaH",
        "outputId": "18c340b0-2104-4420-bef3-9c2aeeb48ea4"
      },
      "execution_count": null,
      "outputs": [
        {
          "output_type": "stream",
          "name": "stdout",
          "text": [
            "1     193821\n",
            "2     101838\n",
            "3      95285\n",
            "4+     84726\n",
            "0      74398\n",
            "Name: Stay_In_Current_City_Years, dtype: int64\n",
            "1     0.352358\n",
            "2     0.185137\n",
            "3     0.173224\n",
            "4+    0.154028\n",
            "0     0.135252\n",
            "Name: Stay_In_Current_City_Years, dtype: float64\n"
          ]
        },
        {
          "output_type": "display_data",
          "data": {
            "text/plain": [
              "<Figure size 432x288 with 1 Axes>"
            ],
            "image/png": "[encoded data removed]"
          },
          "metadata": {
            "needs_background": "light"
          }
        },
        {
          "output_type": "execute_result",
          "data": {
            "text/plain": [
              "'\\nMost of the people have newly migrated to the current city in which they are living and its been an year since living in the state.\\n'"
            ],
            "application/vnd.google.colaboratory.intrinsic+json": {
              "type": "string"
            }
          },
          "metadata": {},
          "execution_count": 132
        }
      ]
    },
    {
      "cell_type": "code",
      "source": [
        "df.Occupation.value_counts()"
      ],
      "metadata": {
        "colab": {
          "base_uri": "https://localhost:8080/"
        },
        "id": "vi-dgMs2TReo",
        "outputId": "9a55698c-2c59-4d51-f96c-1a30156b8af2"
      },
      "execution_count": null,
      "outputs": [
        {
          "output_type": "execute_result",
          "data": {
            "text/plain": [
              "4     72308\n",
              "0     69638\n",
              "7     59133\n",
              "1     47426\n",
              "17    40043\n",
              "20    33562\n",
              "12    31179\n",
              "14    27309\n",
              "2     26588\n",
              "16    25371\n",
              "6     20355\n",
              "3     17650\n",
              "10    12930\n",
              "5     12177\n",
              "15    12165\n",
              "11    11586\n",
              "19     8461\n",
              "13     7728\n",
              "18     6622\n",
              "9      6291\n",
              "8      1546\n",
              "Name: Occupation, dtype: int64"
            ]
          },
          "metadata": {},
          "execution_count": 133
        }
      ]
    },
    {
      "cell_type": "code",
      "source": [
        "df.Occupation.value_counts(normalize=True)"
      ],
      "metadata": {
        "colab": {
          "base_uri": "https://localhost:8080/"
        },
        "id": "qR6FKK7ETRZU",
        "outputId": "e9be7b3e-db63-43e0-9718-ae16f383be08"
      },
      "execution_count": null,
      "outputs": [
        {
          "output_type": "execute_result",
          "data": {
            "text/plain": [
              "4     0.131453\n",
              "0     0.126599\n",
              "7     0.107501\n",
              "1     0.086218\n",
              "17    0.072796\n",
              "20    0.061014\n",
              "12    0.056682\n",
              "14    0.049647\n",
              "2     0.048336\n",
              "16    0.046123\n",
              "6     0.037005\n",
              "3     0.032087\n",
              "10    0.023506\n",
              "5     0.022137\n",
              "15    0.022115\n",
              "11    0.021063\n",
              "19    0.015382\n",
              "13    0.014049\n",
              "18    0.012039\n",
              "9     0.011437\n",
              "8     0.002811\n",
              "Name: Occupation, dtype: float64"
            ]
          },
          "metadata": {},
          "execution_count": 134
        }
      ]
    },
    {
      "cell_type": "code",
      "source": [
        "sns.countplot(x='Occupation', data=df)\n",
        "plt.show()\n"
      ],
      "metadata": {
        "colab": {
          "base_uri": "https://localhost:8080/",
          "height": 279
        },
        "id": "CVtOfC6YTBpd",
        "outputId": "56a76c7e-39ed-4d6a-aded-4b49d758d033"
      },
      "execution_count": null,
      "outputs": [
        {
          "output_type": "display_data",
          "data": {
            "text/plain": [
              "<Figure size 432x288 with 1 Axes>"
            ],
            "image/png": "[encoded data removed]"
          },
          "metadata": {
            "needs_background": "light"
          }
        }
      ]
    },
    {
      "cell_type": "code",
      "source": [
        "print(df.Marital_Status.value_counts())\n",
        "print(df.Marital_Status.value_counts(normalize=True))\n",
        "\n",
        "sns.countplot(x='Marital_Status', data=df)\n",
        "plt.show()\n",
        "\"\"\"\n",
        "Nearly 59% are Unmarried and around 41% are Married\n",
        "\"\"\"\n"
      ],
      "metadata": {
        "colab": {
          "base_uri": "https://localhost:8080/",
          "height": 403
        },
        "id": "PgX3NQonTBSl",
        "outputId": "d2d99807-8087-4d84-b64a-80a63b2fd38b"
      },
      "execution_count": null,
      "outputs": [
        {
          "output_type": "stream",
          "name": "stdout",
          "text": [
            "0    324731\n",
            "1    225337\n",
            "Name: Marital_Status, dtype: int64\n",
            "0    0.590347\n",
            "1    0.409653\n",
            "Name: Marital_Status, dtype: float64\n"
          ]
        },
        {
          "output_type": "display_data",
          "data": {
            "text/plain": [
              "<Figure size 432x288 with 1 Axes>"
            ],
            "image/png": "[encoded data removed]"
          },
          "metadata": {
            "needs_background": "light"
          }
        },
        {
          "output_type": "execute_result",
          "data": {
            "text/plain": [
              "'\\nNearly 59% are Unmarried and around 41% are Married\\n'"
            ],
            "application/vnd.google.colaboratory.intrinsic+json": {
              "type": "string"
            }
          },
          "metadata": {},
          "execution_count": 136
        }
      ]
    },
    {
      "cell_type": "code",
      "source": [
        "print(df.Product_Category.value_counts())\n",
        "print(df.Product_Category.value_counts(normalize=True))\n",
        "\n",
        "sns.countplot(x='Product_Category', data=df)\n",
        "plt.show()\n",
        "\"\"\"\n",
        "Visually We can see that most popular product category is 1,5,8\n",
        "\"\"\"\n"
      ],
      "metadata": {
        "colab": {
          "base_uri": "https://localhost:8080/",
          "height": 1000
        },
        "id": "Nkz1-bW9WXbE",
        "outputId": "6c9a8287-9636-4520-bf75-162d665df4be"
      },
      "execution_count": null,
      "outputs": [
        {
          "output_type": "stream",
          "name": "stdout",
          "text": [
            "5     150933\n",
            "1     140378\n",
            "8     113925\n",
            "11     24287\n",
            "2      23864\n",
            "6      20466\n",
            "3      20213\n",
            "4      11753\n",
            "16      9828\n",
            "15      6290\n",
            "13      5549\n",
            "10      5125\n",
            "12      3947\n",
            "7       3721\n",
            "18      3125\n",
            "20      2550\n",
            "19      1603\n",
            "14      1523\n",
            "17       578\n",
            "9        410\n",
            "Name: Product_Category, dtype: int64\n",
            "5     0.274390\n",
            "1     0.255201\n",
            "8     0.207111\n",
            "11    0.044153\n",
            "2     0.043384\n",
            "6     0.037206\n",
            "3     0.036746\n",
            "4     0.021366\n",
            "16    0.017867\n",
            "15    0.011435\n",
            "13    0.010088\n",
            "10    0.009317\n",
            "12    0.007175\n",
            "7     0.006765\n",
            "18    0.005681\n",
            "20    0.004636\n",
            "19    0.002914\n",
            "14    0.002769\n",
            "17    0.001051\n",
            "9     0.000745\n",
            "Name: Product_Category, dtype: float64\n"
          ]
        },
        {
          "output_type": "display_data",
          "data": {
            "text/plain": [
              "<Figure size 432x288 with 1 Axes>"
            ],
            "image/png": "[encoded data removed]"
          },
          "metadata": {
            "needs_background": "light"
          }
        },
        {
          "output_type": "execute_result",
          "data": {
            "text/plain": [
              "'\\nVisually We can see that most popular product category is 1,5,8\\n'"
            ],
            "application/vnd.google.colaboratory.intrinsic+json": {
              "type": "string"
            }
          },
          "metadata": {},
          "execution_count": 137
        }
      ]
    },
    {
      "cell_type": "code",
      "source": [
        "print(\"Minimum Purchase : \", df['Purchase'].min())\n",
        "print(\"Mean Purchase : \", round(df['Purchase'].mean(),2))\n",
        "print(\"Median Purchase : \", round(df['Purchase'].median(),2))\n",
        "print(\"Maximum Purchase : \", df['Purchase'].max())"
      ],
      "metadata": {
        "colab": {
          "base_uri": "https://localhost:8080/"
        },
        "id": "5dHD6ZoWWXS8",
        "outputId": "ab6cdba4-6774-445e-c927-c350f5757bf5"
      },
      "execution_count": null,
      "outputs": [
        {
          "output_type": "stream",
          "name": "stdout",
          "text": [
            "Minimum Purchase :  12\n",
            "Mean Purchase :  9263.97\n",
            "Median Purchase :  8047.0\n",
            "Maximum Purchase :  23961\n"
          ]
        }
      ]
    },
    {
      "cell_type": "code",
      "source": [],
      "metadata": {
        "id": "53mIki7nQzL_"
      },
      "execution_count": null,
      "outputs": []
    },
    {
      "cell_type": "markdown",
      "source": [
        "# Bivariate Analysis"
      ],
      "metadata": {
        "id": "aonEvoP7Xij1"
      }
    },
    {
      "cell_type": "markdown",
      "source": [
        "### Purchase VS Gender"
      ],
      "metadata": {
        "id": "lWSJ188kYrYd"
      }
    },
    {
      "cell_type": "code",
      "source": [
        "sns.boxplot(y=df['Purchase'], x=df['Gender'])\n",
        "plt.show()"
      ],
      "metadata": {
        "colab": {
          "base_uri": "https://localhost:8080/",
          "height": 282
        },
        "id": "V-EyO2XDXkwo",
        "outputId": "a1268037-c27a-40dd-ece8-71647ff4094d"
      },
      "execution_count": null,
      "outputs": [
        {
          "output_type": "display_data",
          "data": {
            "text/plain": [
              "<Figure size 432x288 with 1 Axes>"
            ],
            "image/png": "[encoded data removed]"
          },
          "metadata": {
            "needs_background": "light"
          }
        }
      ]
    },
    {
      "cell_type": "code",
      "source": [
        "female = df[df.Gender == \"F\"]\n",
        "male = df[df.Gender == \"M\"]\n",
        "female_IQR = np.percentile(female['Purchase'], 75) - np.percentile(female['Purchase'], 25)\n",
        "print(f\"IQR for Female is {female_IQR}\")\n",
        "\n",
        "male_IQR = np.percentile(male.Purchase, 75) - np.percentile(male.Purchase, 25)\n",
        "print(f\"IQR for male is {male_IQR}\")"
      ],
      "metadata": {
        "colab": {
          "base_uri": "https://localhost:8080/"
        },
        "id": "q9V99NJdXwdk",
        "outputId": "cd7e0ba1-4478-4f0f-e647-bf6b6b4d136d"
      },
      "execution_count": null,
      "outputs": [
        {
          "output_type": "stream",
          "name": "stdout",
          "text": [
            "IQR for Female is 5967.0\n",
            "IQR for male is 6591.0\n"
          ]
        }
      ]
    },
    {
      "cell_type": "markdown",
      "source": [
        "### Marital Status vs Purchase"
      ],
      "metadata": {
        "id": "Z9Y9uVLdYxtl"
      }
    },
    {
      "cell_type": "code",
      "source": [
        "sns.boxplot(y=df.Purchase, x=df.Marital_Status)\n",
        "plt.show()"
      ],
      "metadata": {
        "colab": {
          "base_uri": "https://localhost:8080/",
          "height": 283
        },
        "id": "J0k5GuMTYWX7",
        "outputId": "c9d48987-d010-4a61-a43c-3c434e119461"
      },
      "execution_count": null,
      "outputs": [
        {
          "output_type": "display_data",
          "data": {
            "text/plain": [
              "<Figure size 432x288 with 1 Axes>"
            ],
            "image/png": "[encoded data removed]"
          },
          "metadata": {
            "needs_background": "light"
          }
        }
      ]
    },
    {
      "cell_type": "code",
      "source": [
        "female = df[df.Marital_Status == 1]\n",
        "male = df[df.Marital_Status == 0]\n",
        "female_IQR = np.percentile(female['Purchase'], 75) - np.percentile(female['Purchase'], 25)\n",
        "print(f\"IQR for Female is {female_IQR}\")\n",
        "\n",
        "male_IQR = np.percentile(male.Purchase, 75) - np.percentile(male.Purchase, 25)\n",
        "print(f\"IQR for male is {male_IQR}\")"
      ],
      "metadata": {
        "colab": {
          "base_uri": "https://localhost:8080/"
        },
        "id": "K5_ognPVY3FL",
        "outputId": "be8d326d-7765-4846-91b9-f402b09131f0"
      },
      "execution_count": null,
      "outputs": [
        {
          "output_type": "stream",
          "name": "stdout",
          "text": [
            "IQR for Female is 6199.0\n",
            "IQR for male is 6456.0\n"
          ]
        }
      ]
    },
    {
      "cell_type": "markdown",
      "source": [
        "### Purchase VS CITY"
      ],
      "metadata": {
        "id": "iHAkGq48ZgKU"
      }
    },
    {
      "cell_type": "code",
      "source": [
        "sns.boxplot(y=df.Purchase, x=df.City_Category)\n",
        "plt.show()"
      ],
      "metadata": {
        "colab": {
          "base_uri": "https://localhost:8080/",
          "height": 283
        },
        "id": "h_mNwxpBZHVH",
        "outputId": "3ef3d5ed-40ca-4812-cf7b-a99af5107371"
      },
      "execution_count": null,
      "outputs": [
        {
          "output_type": "display_data",
          "data": {
            "text/plain": [
              "<Figure size 432x288 with 1 Axes>"
            ],
            "image/png": "[encoded data removed]"
          },
          "metadata": {
            "needs_background": "light"
          }
        }
      ]
    },
    {
      "cell_type": "markdown",
      "source": [
        "### PURCHASE VS AGE"
      ],
      "metadata": {
        "id": "Q_s9wVkyZxtc"
      }
    },
    {
      "cell_type": "code",
      "source": [
        "sns.boxplot(y=df.Purchase, x=df.Age)\n",
        "plt.show()"
      ],
      "metadata": {
        "colab": {
          "base_uri": "https://localhost:8080/",
          "height": 282
        },
        "id": "GuVYDqswZHPo",
        "outputId": "ec7a0147-7dee-4951-d59a-3c8e23738119"
      },
      "execution_count": null,
      "outputs": [
        {
          "output_type": "display_data",
          "data": {
            "text/plain": [
              "<Figure size 432x288 with 1 Axes>"
            ],
            "image/png": "[encoded data removed]"
          },
          "metadata": {
            "needs_background": "light"
          }
        }
      ]
    },
    {
      "cell_type": "code",
      "source": [
        "sns.boxplot(y=df.Purchase, x=df.Stay_In_Current_City_Years)\n",
        "plt.show()"
      ],
      "metadata": {
        "colab": {
          "base_uri": "https://localhost:8080/",
          "height": 283
        },
        "id": "dgHvIneiZ1DM",
        "outputId": "ac5b41be-efce-4520-f11a-6b9bd384a09c"
      },
      "execution_count": null,
      "outputs": [
        {
          "output_type": "display_data",
          "data": {
            "text/plain": [
              "<Figure size 432x288 with 1 Axes>"
            ],
            "image/png": "[encoded data removed]"
          },
          "metadata": {
            "needs_background": "light"
          }
        }
      ]
    },
    {
      "cell_type": "code",
      "source": [
        "def popular_product(x):\n",
        "  return x['Product_Category'].value_counts(ascending=False).head(1)\n",
        ""
      ],
      "metadata": {
        "id": "1HQV7Nd2aBBt"
      },
      "execution_count": null,
      "outputs": []
    },
    {
      "cell_type": "code",
      "source": [
        "x = df.groupby(['Gender', 'Age', \"City_Category\"]).apply(popular_product)\n",
        "x = pd.DataFrame(x)\n",
        "x"
      ],
      "metadata": {
        "colab": {
          "base_uri": "https://localhost:8080/",
          "height": 1000
        },
        "id": "KUZ2tCcHbFkl",
        "outputId": "25296f71-bd0a-4805-9274-74cd2d22d31a"
      },
      "execution_count": null,
      "outputs": [
        {
          "output_type": "execute_result",
          "data": {
            "text/plain": [
              "                              Product_Category\n",
              "Gender Age   City_Category                    \n",
              "F      0-17  A             5               447\n",
              "             B             5               440\n",
              "             C             5               624\n",
              "       18-25 A             5              2085\n",
              "             B             5              3809\n",
              "             C             5              2034\n",
              "       26-35 A             5              5790\n",
              "             B             5              7105\n",
              "             C             5              3691\n",
              "       36-45 A             5              2070\n",
              "             B             5              3233\n",
              "             C             5              2514\n",
              "       46-50 A             5               418\n",
              "             B             8              1760\n",
              "             C             5              1584\n",
              "       51-55 A             5               575\n",
              "             B             8              1307\n",
              "             C             5              1115\n",
              "       55+   A             8               109\n",
              "             B             8               459\n",
              "             C             8              1210\n",
              "M      0-17  A             5               300\n",
              "             B             1              1047\n",
              "             C             5              1500\n",
              "       18-25 A             5              5915\n",
              "             B             1              9138\n",
              "             C             1              7300\n",
              "       26-35 A             5             15770\n",
              "             B             1             20176\n",
              "             C             1             13943\n",
              "       36-45 A             5              5185\n",
              "             B             5              9959\n",
              "             C             1              7876\n",
              "       46-50 A             5              1573\n",
              "             B             5              3679\n",
              "             C             1              3090\n",
              "       51-55 A             5              1119\n",
              "             B             1              3433\n",
              "             C             1              2966\n",
              "       55+   A             5               872\n",
              "             B             8              1070\n",
              "             C             8              2545"
            ],
            "text/html": [
              "\n",
              "  <div id=\"df-ab8c5b3b-c69d-4cbb-988b-6f16503ef554\">\n",
              "    <div class=\"colab-df-container\">\n",
              "      <div>\n",
              "<style scoped>\n",
              "    .dataframe tbody tr th:only-of-type {\n",
              "        vertical-align: middle;\n",
              "    }\n",
              "\n",
              "    .dataframe tbody tr th {\n",
              "        vertical-align: top;\n",
              "    }\n",
              "\n",
              "    .dataframe thead th {\n",
              "        text-align: right;\n",
              "    }\n",
              "</style>\n",
              "<table border=\"1\" class=\"dataframe\">\n",
              "  <thead>\n",
              "    <tr style=\"text-align: right;\">\n",
              "      <th></th>\n",
              "      <th></th>\n",
              "      <th></th>\n",
              "      <th></th>\n",
              "      <th>Product_Category</th>\n",
              "    </tr>\n",
              "    <tr>\n",
              "      <th>Gender</th>\n",
              "      <th>Age</th>\n",
              "      <th>City_Category</th>\n",
              "      <th></th>\n",
              "      <th></th>\n",
              "    </tr>\n",
              "  </thead>\n",
              "  <tbody>\n",
              "    <tr>\n",
              "      <th rowspan=\"21\" valign=\"top\">F</th>\n",
              "      <th rowspan=\"3\" valign=\"top\">0-17</th>\n",
              "      <th>A</th>\n",
              "      <th>5</th>\n",
              "      <td>447</td>\n",
              "    </tr>\n",
              "    <tr>\n",
              "      <th>B</th>\n",
              "      <th>5</th>\n",
              "      <td>440</td>\n",
              "    </tr>\n",
              "    <tr>\n",
              "      <th>C</th>\n",
              "      <th>5</th>\n",
              "      <td>624</td>\n",
              "    </tr>\n",
              "    <tr>\n",
              "      <th rowspan=\"3\" valign=\"top\">18-25</th>\n",
              "      <th>A</th>\n",
              "      <th>5</th>\n",
              "      <td>2085</td>\n",
              "    </tr>\n",
              "    <tr>\n",
              "      <th>B</th>\n",
              "      <th>5</th>\n",
              "      <td>3809</td>\n",
              "    </tr>\n",
              "    <tr>\n",
              "      <th>C</th>\n",
              "      <th>5</th>\n",
              "      <td>2034</td>\n",
              "    </tr>\n",
              "    <tr>\n",
              "      <th rowspan=\"3\" valign=\"top\">26-35</th>\n",
              "      <th>A</th>\n",
              "      <th>5</th>\n",
              "      <td>5790</td>\n",
              "    </tr>\n",
              "    <tr>\n",
              "      <th>B</th>\n",
              "      <th>5</th>\n",
              "      <td>7105</td>\n",
              "    </tr>\n",
              "    <tr>\n",
              "      <th>C</th>\n",
              "      <th>5</th>\n",
              "      <td>3691</td>\n",
              "    </tr>\n",
              "    <tr>\n",
              "      <th rowspan=\"3\" valign=\"top\">36-45</th>\n",
              "      <th>A</th>\n",
              "      <th>5</th>\n",
              "      <td>2070</td>\n",
              "    </tr>\n",
              "    <tr>\n",
              "      <th>B</th>\n",
              "      <th>5</th>\n",
              "      <td>3233</td>\n",
              "    </tr>\n",
              "    <tr>\n",
              "      <th>C</th>\n",
              "      <th>5</th>\n",
              "      <td>2514</td>\n",
              "    </tr>\n",
              "    <tr>\n",
              "      <th rowspan=\"3\" valign=\"top\">46-50</th>\n",
              "      <th>A</th>\n",
              "      <th>5</th>\n",
              "      <td>418</td>\n",
              "    </tr>\n",
              "    <tr>\n",
              "      <th>B</th>\n",
              "      <th>8</th>\n",
              "      <td>1760</td>\n",
              "    </tr>\n",
              "    <tr>\n",
              "      <th>C</th>\n",
              "      <th>5</th>\n",
              "      <td>1584</td>\n",
              "    </tr>\n",
              "    <tr>\n",
              "      <th rowspan=\"3\" valign=\"top\">51-55</th>\n",
              "      <th>A</th>\n",
              "      <th>5</th>\n",
              "      <td>575</td>\n",
              "    </tr>\n",
              "    <tr>\n",
              "      <th>B</th>\n",
              "      <th>8</th>\n",
              "      <td>1307</td>\n",
              "    </tr>\n",
              "    <tr>\n",
              "      <th>C</th>\n",
              "      <th>5</th>\n",
              "      <td>1115</td>\n",
              "    </tr>\n",
              "    <tr>\n",
              "      <th rowspan=\"3\" valign=\"top\">55+</th>\n",
              "      <th>A</th>\n",
              "      <th>8</th>\n",
              "      <td>109</td>\n",
              "    </tr>\n",
              "    <tr>\n",
              "      <th>B</th>\n",
              "      <th>8</th>\n",
              "      <td>459</td>\n",
              "    </tr>\n",
              "    <tr>\n",
              "      <th>C</th>\n",
              "      <th>8</th>\n",
              "      <td>1210</td>\n",
              "    </tr>\n",
              "    <tr>\n",
              "      <th rowspan=\"21\" valign=\"top\">M</th>\n",
              "      <th rowspan=\"3\" valign=\"top\">0-17</th>\n",
              "      <th>A</th>\n",
              "      <th>5</th>\n",
              "      <td>300</td>\n",
              "    </tr>\n",
              "    <tr>\n",
              "      <th>B</th>\n",
              "      <th>1</th>\n",
              "      <td>1047</td>\n",
              "    </tr>\n",
              "    <tr>\n",
              "      <th>C</th>\n",
              "      <th>5</th>\n",
              "      <td>1500</td>\n",
              "    </tr>\n",
              "    <tr>\n",
              "      <th rowspan=\"3\" valign=\"top\">18-25</th>\n",
              "      <th>A</th>\n",
              "      <th>5</th>\n",
              "      <td>5915</td>\n",
              "    </tr>\n",
              "    <tr>\n",
              "      <th>B</th>\n",
              "      <th>1</th>\n",
              "      <td>9138</td>\n",
              "    </tr>\n",
              "    <tr>\n",
              "      <th>C</th>\n",
              "      <th>1</th>\n",
              "      <td>7300</td>\n",
              "    </tr>\n",
              "    <tr>\n",
              "      <th rowspan=\"3\" valign=\"top\">26-35</th>\n",
              "      <th>A</th>\n",
              "      <th>5</th>\n",
              "      <td>15770</td>\n",
              "    </tr>\n",
              "    <tr>\n",
              "      <th>B</th>\n",
              "      <th>1</th>\n",
              "      <td>20176</td>\n",
              "    </tr>\n",
              "    <tr>\n",
              "      <th>C</th>\n",
              "      <th>1</th>\n",
              "      <td>13943</td>\n",
              "    </tr>\n",
              "    <tr>\n",
              "      <th rowspan=\"3\" valign=\"top\">36-45</th>\n",
              "      <th>A</th>\n",
              "      <th>5</th>\n",
              "      <td>5185</td>\n",
              "    </tr>\n",
              "    <tr>\n",
              "      <th>B</th>\n",
              "      <th>5</th>\n",
              "      <td>9959</td>\n",
              "    </tr>\n",
              "    <tr>\n",
              "      <th>C</th>\n",
              "      <th>1</th>\n",
              "      <td>7876</td>\n",
              "    </tr>\n",
              "    <tr>\n",
              "      <th rowspan=\"3\" valign=\"top\">46-50</th>\n",
              "      <th>A</th>\n",
              "      <th>5</th>\n",
              "      <td>1573</td>\n",
              "    </tr>\n",
              "    <tr>\n",
              "      <th>B</th>\n",
              "      <th>5</th>\n",
              "      <td>3679</td>\n",
              "    </tr>\n",
              "    <tr>\n",
              "      <th>C</th>\n",
              "      <th>1</th>\n",
              "      <td>3090</td>\n",
              "    </tr>\n",
              "    <tr>\n",
              "      <th rowspan=\"3\" valign=\"top\">51-55</th>\n",
              "      <th>A</th>\n",
              "      <th>5</th>\n",
              "      <td>1119</td>\n",
              "    </tr>\n",
              "    <tr>\n",
              "      <th>B</th>\n",
              "      <th>1</th>\n",
              "      <td>3433</td>\n",
              "    </tr>\n",
              "    <tr>\n",
              "      <th>C</th>\n",
              "      <th>1</th>\n",
              "      <td>2966</td>\n",
              "    </tr>\n",
              "    <tr>\n",
              "      <th rowspan=\"3\" valign=\"top\">55+</th>\n",
              "      <th>A</th>\n",
              "      <th>5</th>\n",
              "      <td>872</td>\n",
              "    </tr>\n",
              "    <tr>\n",
              "      <th>B</th>\n",
              "      <th>8</th>\n",
              "      <td>1070</td>\n",
              "    </tr>\n",
              "    <tr>\n",
              "      <th>C</th>\n",
              "      <th>8</th>\n",
              "      <td>2545</td>\n",
              "    </tr>\n",
              "  </tbody>\n",
              "</table>\n",
              "</div>\n",
              "      <button class=\"colab-df-convert\" onclick=\"convertToInteractive('df-ab8c5b3b-c69d-4cbb-988b-6f16503ef554')\"\n",
              "              title=\"Convert this dataframe to an interactive table.\"\n",
              "              style=\"display:none;\">\n",
              "        \n",
              "  <svg xmlns=\"http://www.w3.org/2000/svg\" height=\"24px\"viewBox=\"0 0 24 24\"\n",
              "       width=\"24px\">\n",
              "    <path d=\"M0 0h24v24H0V0z\" fill=\"none\"/>\n",
              "    <path d=\"M18.56 5.44l.94 2.06.94-2.06 2.06-.94-2.06-.94-.94-2.06-.94 2.06-2.06.94zm-11 1L8.5 8.5l.94-2.06 2.06-.94-2.06-.94L8.5 2.5l-.94 2.06-2.06.94zm10 10l.94 2.06.94-2.06 2.06-.94-2.06-.94-.94-2.06-.94 2.06-2.06.94z\"/><path d=\"M17.41 7.96l-1.37-1.37c-.4-.4-.92-.59-1.43-.59-.52 0-1.04.2-1.43.59L10.3 9.45l-7.72 7.72c-.78.78-.78 2.05 0 2.83L4 21.41c.39.39.9.59 1.41.59.51 0 1.02-.2 1.41-.59l7.78-7.78 2.81-2.81c.8-.78.8-2.07 0-2.86zM5.41 20L4 18.59l7.72-7.72 1.47 1.35L5.41 20z\"/>\n",
              "  </svg>\n",
              "      </button>\n",
              "      \n",
              "  <style>\n",
              "    .colab-df-container {\n",
              "      display:flex;\n",
              "      flex-wrap:wrap;\n",
              "      gap: 12px;\n",
              "    }\n",
              "\n",
              "    .colab-df-convert {\n",
              "      background-color: #E8F0FE;\n",
              "      border: none;\n",
              "      border-radius: 50%;\n",
              "      cursor: pointer;\n",
              "      display: none;\n",
              "      fill: #1967D2;\n",
              "      height: 32px;\n",
              "      padding: 0 0 0 0;\n",
              "      width: 32px;\n",
              "    }\n",
              "\n",
              "    .colab-df-convert:hover {\n",
              "      background-color: #E2EBFA;\n",
              "      box-shadow: 0px 1px 2px rgba(60, 64, 67, 0.3), 0px 1px 3px 1px rgba(60, 64, 67, 0.15);\n",
              "      fill: #174EA6;\n",
              "    }\n",
              "\n",
              "    [theme=dark] .colab-df-convert {\n",
              "      background-color: #3B4455;\n",
              "      fill: #D2E3FC;\n",
              "    }\n",
              "\n",
              "    [theme=dark] .colab-df-convert:hover {\n",
              "      background-color: #434B5C;\n",
              "      box-shadow: 0px 1px 3px 1px rgba(0, 0, 0, 0.15);\n",
              "      filter: drop-shadow(0px 1px 2px rgba(0, 0, 0, 0.3));\n",
              "      fill: #FFFFFF;\n",
              "    }\n",
              "  </style>\n",
              "\n",
              "      <script>\n",
              "        const buttonEl =\n",
              "          document.querySelector('#df-ab8c5b3b-c69d-4cbb-988b-6f16503ef554 button.colab-df-convert');\n",
              "        buttonEl.style.display =\n",
              "          google.colab.kernel.accessAllowed ? 'block' : 'none';\n",
              "\n",
              "        async function convertToInteractive(key) {\n",
              "          const element = document.querySelector('#df-ab8c5b3b-c69d-4cbb-988b-6f16503ef554');\n",
              "          const dataTable =\n",
              "            await google.colab.kernel.invokeFunction('convertToInteractive',\n",
              "                                                     [key], {});\n",
              "          if (!dataTable) return;\n",
              "\n",
              "          const docLinkHtml = 'Like what you see? Visit the ' +\n",
              "            '<a target=\"_blank\" href=https://colab.research.google.com/notebooks/data_table.ipynb>data table notebook</a>'\n",
              "            + ' to learn more about interactive tables.';\n",
              "          element.innerHTML = '';\n",
              "          dataTable['output_type'] = 'display_data';\n",
              "          await google.colab.output.renderOutput(dataTable, element);\n",
              "          const docLink = document.createElement('div');\n",
              "          docLink.innerHTML = docLinkHtml;\n",
              "          element.appendChild(docLink);\n",
              "        }\n",
              "      </script>\n",
              "    </div>\n",
              "  </div>\n",
              "  "
            ]
          },
          "metadata": {},
          "execution_count": 147
        }
      ]
    },
    {
      "cell_type": "code",
      "source": [
        "pd.crosstab(df['Product_Category'], df['Marital_Status']).sort_values([0,1], ascending=False).head(10)"
      ],
      "metadata": {
        "colab": {
          "base_uri": "https://localhost:8080/",
          "height": 394
        },
        "id": "XsqKUoVybVrz",
        "outputId": "ae407679-535e-4dd2-a3b5-aa926c85bb82"
      },
      "execution_count": null,
      "outputs": [
        {
          "output_type": "execute_result",
          "data": {
            "text/plain": [
              "Marital_Status        0      1\n",
              "Product_Category              \n",
              "5                 89656  61277\n",
              "1                 84375  56003\n",
              "8                 65411  48514\n",
              "11                14668   9619\n",
              "2                 14138   9726\n",
              "3                 12359   7854\n",
              "6                 12139   8327\n",
              "4                  7177   4576\n",
              "16                 5713   4115\n",
              "15                 3623   2667"
            ],
            "text/html": [
              "\n",
              "  <div id=\"df-221993b5-a0b3-433c-9442-2c56bf9dc023\">\n",
              "    <div class=\"colab-df-container\">\n",
              "      <div>\n",
              "<style scoped>\n",
              "    .dataframe tbody tr th:only-of-type {\n",
              "        vertical-align: middle;\n",
              "    }\n",
              "\n",
              "    .dataframe tbody tr th {\n",
              "        vertical-align: top;\n",
              "    }\n",
              "\n",
              "    .dataframe thead th {\n",
              "        text-align: right;\n",
              "    }\n",
              "</style>\n",
              "<table border=\"1\" class=\"dataframe\">\n",
              "  <thead>\n",
              "    <tr style=\"text-align: right;\">\n",
              "      <th>Marital_Status</th>\n",
              "      <th>0</th>\n",
              "      <th>1</th>\n",
              "    </tr>\n",
              "    <tr>\n",
              "      <th>Product_Category</th>\n",
              "      <th></th>\n",
              "      <th></th>\n",
              "    </tr>\n",
              "  </thead>\n",
              "  <tbody>\n",
              "    <tr>\n",
              "      <th>5</th>\n",
              "      <td>89656</td>\n",
              "      <td>61277</td>\n",
              "    </tr>\n",
              "    <tr>\n",
              "      <th>1</th>\n",
              "      <td>84375</td>\n",
              "      <td>56003</td>\n",
              "    </tr>\n",
              "    <tr>\n",
              "      <th>8</th>\n",
              "      <td>65411</td>\n",
              "      <td>48514</td>\n",
              "    </tr>\n",
              "    <tr>\n",
              "      <th>11</th>\n",
              "      <td>14668</td>\n",
              "      <td>9619</td>\n",
              "    </tr>\n",
              "    <tr>\n",
              "      <th>2</th>\n",
              "      <td>14138</td>\n",
              "      <td>9726</td>\n",
              "    </tr>\n",
              "    <tr>\n",
              "      <th>3</th>\n",
              "      <td>12359</td>\n",
              "      <td>7854</td>\n",
              "    </tr>\n",
              "    <tr>\n",
              "      <th>6</th>\n",
              "      <td>12139</td>\n",
              "      <td>8327</td>\n",
              "    </tr>\n",
              "    <tr>\n",
              "      <th>4</th>\n",
              "      <td>7177</td>\n",
              "      <td>4576</td>\n",
              "    </tr>\n",
              "    <tr>\n",
              "      <th>16</th>\n",
              "      <td>5713</td>\n",
              "      <td>4115</td>\n",
              "    </tr>\n",
              "    <tr>\n",
              "      <th>15</th>\n",
              "      <td>3623</td>\n",
              "      <td>2667</td>\n",
              "    </tr>\n",
              "  </tbody>\n",
              "</table>\n",
              "</div>\n",
              "      <button class=\"colab-df-convert\" onclick=\"convertToInteractive('df-221993b5-a0b3-433c-9442-2c56bf9dc023')\"\n",
              "              title=\"Convert this dataframe to an interactive table.\"\n",
              "              style=\"display:none;\">\n",
              "        \n",
              "  <svg xmlns=\"http://www.w3.org/2000/svg\" height=\"24px\"viewBox=\"0 0 24 24\"\n",
              "       width=\"24px\">\n",
              "    <path d=\"M0 0h24v24H0V0z\" fill=\"none\"/>\n",
              "    <path d=\"M18.56 5.44l.94 2.06.94-2.06 2.06-.94-2.06-.94-.94-2.06-.94 2.06-2.06.94zm-11 1L8.5 8.5l.94-2.06 2.06-.94-2.06-.94L8.5 2.5l-.94 2.06-2.06.94zm10 10l.94 2.06.94-2.06 2.06-.94-2.06-.94-.94-2.06-.94 2.06-2.06.94z\"/><path d=\"M17.41 7.96l-1.37-1.37c-.4-.4-.92-.59-1.43-.59-.52 0-1.04.2-1.43.59L10.3 9.45l-7.72 7.72c-.78.78-.78 2.05 0 2.83L4 21.41c.39.39.9.59 1.41.59.51 0 1.02-.2 1.41-.59l7.78-7.78 2.81-2.81c.8-.78.8-2.07 0-2.86zM5.41 20L4 18.59l7.72-7.72 1.47 1.35L5.41 20z\"/>\n",
              "  </svg>\n",
              "      </button>\n",
              "      \n",
              "  <style>\n",
              "    .colab-df-container {\n",
              "      display:flex;\n",
              "      flex-wrap:wrap;\n",
              "      gap: 12px;\n",
              "    }\n",
              "\n",
              "    .colab-df-convert {\n",
              "      background-color: #E8F0FE;\n",
              "      border: none;\n",
              "      border-radius: 50%;\n",
              "      cursor: pointer;\n",
              "      display: none;\n",
              "      fill: #1967D2;\n",
              "      height: 32px;\n",
              "      padding: 0 0 0 0;\n",
              "      width: 32px;\n",
              "    }\n",
              "\n",
              "    .colab-df-convert:hover {\n",
              "      background-color: #E2EBFA;\n",
              "      box-shadow: 0px 1px 2px rgba(60, 64, 67, 0.3), 0px 1px 3px 1px rgba(60, 64, 67, 0.15);\n",
              "      fill: #174EA6;\n",
              "    }\n",
              "\n",
              "    [theme=dark] .colab-df-convert {\n",
              "      background-color: #3B4455;\n",
              "      fill: #D2E3FC;\n",
              "    }\n",
              "\n",
              "    [theme=dark] .colab-df-convert:hover {\n",
              "      background-color: #434B5C;\n",
              "      box-shadow: 0px 1px 3px 1px rgba(0, 0, 0, 0.15);\n",
              "      filter: drop-shadow(0px 1px 2px rgba(0, 0, 0, 0.3));\n",
              "      fill: #FFFFFF;\n",
              "    }\n",
              "  </style>\n",
              "\n",
              "      <script>\n",
              "        const buttonEl =\n",
              "          document.querySelector('#df-221993b5-a0b3-433c-9442-2c56bf9dc023 button.colab-df-convert');\n",
              "        buttonEl.style.display =\n",
              "          google.colab.kernel.accessAllowed ? 'block' : 'none';\n",
              "\n",
              "        async function convertToInteractive(key) {\n",
              "          const element = document.querySelector('#df-221993b5-a0b3-433c-9442-2c56bf9dc023');\n",
              "          const dataTable =\n",
              "            await google.colab.kernel.invokeFunction('convertToInteractive',\n",
              "                                                     [key], {});\n",
              "          if (!dataTable) return;\n",
              "\n",
              "          const docLinkHtml = 'Like what you see? Visit the ' +\n",
              "            '<a target=\"_blank\" href=https://colab.research.google.com/notebooks/data_table.ipynb>data table notebook</a>'\n",
              "            + ' to learn more about interactive tables.';\n",
              "          element.innerHTML = '';\n",
              "          dataTable['output_type'] = 'display_data';\n",
              "          await google.colab.output.renderOutput(dataTable, element);\n",
              "          const docLink = document.createElement('div');\n",
              "          docLink.innerHTML = docLinkHtml;\n",
              "          element.appendChild(docLink);\n",
              "        }\n",
              "      </script>\n",
              "    </div>\n",
              "  </div>\n",
              "  "
            ]
          },
          "metadata": {},
          "execution_count": 148
        }
      ]
    },
    {
      "cell_type": "markdown",
      "source": [
        "### Outliers section"
      ],
      "metadata": {
        "id": "bcbxJ9GDckze"
      }
    },
    {
      "cell_type": "code",
      "source": [
        "q75, q25 = np.percentile(df['Purchase'], [75,25])\n",
        "iqr = q75-q25\n",
        "\n",
        "upper_limit = q75 + 1.5*iqr\n",
        "lower_limit = 0 if 0>(q25-105*iqr) else (q25-105*iqr)\n",
        "\n",
        "print(f\"Upper limit : {upper_limit}\")\n",
        "print(f\"Lower Limit : {lower_limit}\")"
      ],
      "metadata": {
        "colab": {
          "base_uri": "https://localhost:8080/"
        },
        "id": "T01XcdoybvOU",
        "outputId": "be7a9443-db87-447f-e24c-327157993d16"
      },
      "execution_count": null,
      "outputs": [
        {
          "output_type": "stream",
          "name": "stdout",
          "text": [
            "Upper limit : 21400.5\n",
            "Lower Limit : 0\n"
          ]
        }
      ]
    },
    {
      "cell_type": "code",
      "source": [
        "x = (df.Purchase > upper_limit) | (df.Purchase < lower_limit)\n",
        "df.loc[x,:].shape"
      ],
      "metadata": {
        "colab": {
          "base_uri": "https://localhost:8080/"
        },
        "id": "AYasu9FdeZCm",
        "outputId": "506784b7-ecb6-4554-e145-8513346a6a38"
      },
      "execution_count": null,
      "outputs": [
        {
          "output_type": "execute_result",
          "data": {
            "text/plain": [
              "(2677, 10)"
            ]
          },
          "metadata": {},
          "execution_count": 150
        }
      ]
    },
    {
      "cell_type": "markdown",
      "source": [
        "# We can say that around 2677 number of Purchase comes in the category of outliers in purchase column"
      ],
      "metadata": {
        "id": "rrh6LZEefN2W"
      }
    },
    {
      "cell_type": "markdown",
      "source": [
        "## Comparing the Purchases of MAle and Female"
      ],
      "metadata": {
        "id": "dQhdkC6GfiZG"
      }
    },
    {
      "cell_type": "code",
      "source": [
        "sns.kdeplot(x='Purchase', data=df, hue='Gender')\n",
        "plt.show()"
      ],
      "metadata": {
        "colab": {
          "base_uri": "https://localhost:8080/",
          "height": 279
        },
        "id": "PMryNfV7fJXg",
        "outputId": "604514c7-7c63-45ee-d3b9-15223ac44230"
      },
      "execution_count": null,
      "outputs": [
        {
          "output_type": "display_data",
          "data": {
            "text/plain": [
              "<Figure size 432x288 with 1 Axes>"
            ],
            "image/png": "[encoded data removed]"
          },
          "metadata": {
            "needs_background": "light"
          }
        }
      ]
    },
    {
      "cell_type": "markdown",
      "source": [
        "## Confidence Interval and distribution of the mean"
      ],
      "metadata": {
        "id": "slObJzr6gXH2"
      }
    },
    {
      "cell_type": "code",
      "source": [
        "from numpy.random import sample, choice\n",
        "import random"
      ],
      "metadata": {
        "id": "ymJwSz4Efwto"
      },
      "execution_count": null,
      "outputs": []
    },
    {
      "cell_type": "code",
      "source": [
        "female_purchase = df.loc[df.Gender == \"F\"]['Purchase'].values\n",
        "male_purchase = df.loc[df.Gender == \"M\"]['Purchase'].values"
      ],
      "metadata": {
        "id": "cOHRYhZugj0S"
      },
      "execution_count": null,
      "outputs": []
    },
    {
      "cell_type": "code",
      "source": [
        "def bootstrapped(data, sample_size, no_of_samples):\n",
        "  sample_mean_list = []\n",
        "  for _ in range(no_of_samples):\n",
        "    sample_mean = round(np.mean(random.sample(data, sample_size)), 2)\n",
        "    sample_mean_list.append(sample_mean)\n",
        "  return sample_mean_list"
      ],
      "metadata": {
        "id": "ePHfquESgx--"
      },
      "execution_count": null,
      "outputs": []
    },
    {
      "cell_type": "code",
      "source": [
        "boots_male_samples = bootstrapped(data=list(male_purchase), sample_size=1000, no_of_samples=10000)\n",
        "boots_female_samples = bootstrapped(data=list(female_purchase), sample_size=1000, no_of_samples=10000)"
      ],
      "metadata": {
        "id": "a-VcnRlQg9Aw"
      },
      "execution_count": null,
      "outputs": []
    },
    {
      "cell_type": "code",
      "source": [
        "sns.kdeplot(boots_male_samples, label='Male')\n",
        "sns.kdeplot(boots_female_samples, label='Female')\n",
        "plt.title(\"Mean Sample Distribution of Purchases\")\n",
        "plt.xlabel('Purchases')\n",
        "plt.legend()\n",
        "plt.show()"
      ],
      "metadata": {
        "colab": {
          "base_uri": "https://localhost:8080/",
          "height": 295
        },
        "id": "RpMgykfRg-jU",
        "outputId": "109d50cf-eedf-439e-c0bc-49725e0bcd04"
      },
      "execution_count": null,
      "outputs": [
        {
          "output_type": "display_data",
          "data": {
            "text/plain": [
              "<Figure size 432x288 with 1 Axes>"
            ],
            "image/png": "[encoded data removed]"
          },
          "metadata": {
            "needs_background": "light"
          }
        }
      ]
    },
    {
      "cell_type": "code",
      "source": [
        "lower_limit = round(np.percentile(boots_male_samples, 2.5), 2)\n",
        "upper_limit = round(np.percentile(boots_male_samples, 97.5), 2)\n",
        "print(f\"For Males : 95% confidence interval is : {lower_limit} to {upper_limit}\")\n",
        "\n",
        "lower_limit = round(np.percentile(boots_female_samples, 2.5), 2)\n",
        "upper_limit = round(np.percentile(boots_female_samples, 97.5), 2)\n",
        "print(f\"For Females : 95% confidence interval is : {lower_limit} to {upper_limit}\")"
      ],
      "metadata": {
        "colab": {
          "base_uri": "https://localhost:8080/"
        },
        "id": "4QeHCitNirzR",
        "outputId": "7c38cd7b-ee4c-4bfd-d298-18b57746d304"
      },
      "execution_count": null,
      "outputs": [
        {
          "output_type": "stream",
          "name": "stdout",
          "text": [
            "For Males : 95% confidence interval is : 9124.04 to 9753.65\n",
            "For Females : 95% confidence interval is : 8449.15 to 9034.09\n"
          ]
        }
      ]
    },
    {
      "cell_type": "code",
      "source": [
        "lower_limit = round(np.percentile(boots_male_samples, 5), 2)\n",
        "upper_limit = round(np.percentile(boots_male_samples, 95), 2)\n",
        "print(f\"For Males : 90% confidence interval is : {lower_limit} to {upper_limit}\")\n",
        "\n",
        "lower_limit = round(np.percentile(boots_female_samples, 5), 2)\n",
        "upper_limit = round(np.percentile(boots_female_samples, 95), 2)\n",
        "print(f\"For Females : 90% confidence interval is : {lower_limit} to {upper_limit}\")"
      ],
      "metadata": {
        "colab": {
          "base_uri": "https://localhost:8080/"
        },
        "id": "hxaWlEyyjSql",
        "outputId": "4b297b67-1a8d-4aed-a856-5a77e2ca09cb"
      },
      "execution_count": null,
      "outputs": [
        {
          "output_type": "stream",
          "name": "stdout",
          "text": [
            "For Males : 90% confidence interval is : 9172.47 to 9697.79\n",
            "For Females : 90% confidence interval is : 8492.29 to 8983.62\n"
          ]
        }
      ]
    },
    {
      "cell_type": "code",
      "source": [
        "lower_limit = round(np.percentile(boots_male_samples, 0.5), 2)\n",
        "upper_limit = round(np.percentile(boots_male_samples, 99.5), 2)\n",
        "print(f\"For Males : 99% confidence interval is : {lower_limit} to {upper_limit}\")\n",
        "\n",
        "lower_limit = round(np.percentile(boots_female_samples, 0.5), 2)\n",
        "upper_limit = round(np.percentile(boots_female_samples, 99.5), 2)\n",
        "print(f\"For Females : 99% confidence interval is : {lower_limit} to {upper_limit}\")"
      ],
      "metadata": {
        "colab": {
          "base_uri": "https://localhost:8080/"
        },
        "id": "wabS9sRxjyJf",
        "outputId": "482ff296-a5f1-49e6-f5fb-9a0833904075"
      },
      "execution_count": null,
      "outputs": [
        {
          "output_type": "stream",
          "name": "stdout",
          "text": [
            "For Males : 99% confidence interval is : 9034.25 to 9848.31\n",
            "For Females : 99% confidence interval is : 8350.44 to 9136.98\n"
          ]
        }
      ]
    },
    {
      "cell_type": "markdown",
      "source": [
        "## Answers for Gender category:\n",
        "1. The sampling distribution of male and female has very less overlapping\n",
        "2. Even though the top categories are bought by male and female is very similar, still the purchases made by male is greater than female.\n",
        "3. ther 95% confidence interval doesn't have any overlap.\n",
        "4. We can conclude that males spend more then females.\n",
        "5. If the customer is Male, There is a higher chance of making a bigger pourchase from walmart."
      ],
      "metadata": {
        "id": "V3hXzhS9mksG"
      }
    },
    {
      "cell_type": "code",
      "source": [],
      "metadata": {
        "id": "qxbyU3FNmjFy"
      },
      "execution_count": null,
      "outputs": []
    },
    {
      "cell_type": "code",
      "source": [
        "## MARITAL STATUS"
      ],
      "metadata": {
        "id": "YGR0wnqdj7ql"
      },
      "execution_count": null,
      "outputs": []
    },
    {
      "cell_type": "code",
      "source": [
        "df.Marital_Status.unique()"
      ],
      "metadata": {
        "colab": {
          "base_uri": "https://localhost:8080/"
        },
        "id": "T4VxQm90plEq",
        "outputId": "b499d0b1-9354-43a6-fd43-c299bf518bd0"
      },
      "execution_count": null,
      "outputs": [
        {
          "output_type": "execute_result",
          "data": {
            "text/plain": [
              "array([0, 1], dtype=object)"
            ]
          },
          "metadata": {},
          "execution_count": 161
        }
      ]
    },
    {
      "cell_type": "code",
      "source": [
        "sns.kdeplot(x='Purchase', data=df, hue='Marital_Status')\n",
        "plt.show()"
      ],
      "metadata": {
        "colab": {
          "base_uri": "https://localhost:8080/",
          "height": 290
        },
        "id": "jWETd-KHp1zp",
        "outputId": "f9341ec2-bbc2-4737-93f3-f51e9a067ebd"
      },
      "execution_count": null,
      "outputs": [
        {
          "output_type": "display_data",
          "data": {
            "text/plain": [
              "<Figure size 432x288 with 1 Axes>"
            ],
            "image/png": "[encoded data removed]"
          },
          "metadata": {
            "needs_background": "light"
          }
        }
      ]
    },
    {
      "cell_type": "code",
      "source": [],
      "metadata": {
        "id": "HRO6hMJYp2US"
      },
      "execution_count": null,
      "outputs": []
    },
    {
      "cell_type": "code",
      "source": [
        "s_0 = df.loc[df['Marital_Status']==0, :]['Purchase'].values\n",
        "s_1 = df.loc[df['Marital_Status']==1, :]['Purchase'].values\n",
        "\n",
        "boots_0_samples = bootstrapped(data=list(s_0), sample_size=1000, no_of_samples=10000)\n",
        "boots_1_samples = bootstrapped(data=list(s_1), sample_size=1000, no_of_samples=10000)\n",
        "\n",
        "sns.kdeplot(boots_0_samples, label=\"Marital_Status_0\")\n",
        "sns.kdeplot(boots_1_samples, label=\"Marital_Status_1\")\n",
        "plt.xlabel('Purchases')\n",
        "plt.legend()\n",
        "plt.show()"
      ],
      "metadata": {
        "colab": {
          "base_uri": "https://localhost:8080/",
          "height": 279
        },
        "id": "-h2nApR8lDIY",
        "outputId": "fc76769e-0fd9-45c6-de8a-a41f282b4991"
      },
      "execution_count": null,
      "outputs": [
        {
          "output_type": "display_data",
          "data": {
            "text/plain": [
              "<Figure size 432x288 with 1 Axes>"
            ],
            "image/png": "[encoded data removed]"
          },
          "metadata": {
            "needs_background": "light"
          }
        }
      ]
    },
    {
      "cell_type": "code",
      "source": [
        "lower_limit = round(np.percentile(boots_0_samples, 2.5), 2)\n",
        "upper_limit = round(np.percentile(boots_0_samples, 97.5), 2)\n",
        "print(f\"For Marital Status = 0 : 95% confidence interval is : {lower_limit} to {upper_limit}\")\n",
        "\n",
        "lower_limit = round(np.percentile(boots_1_samples, 2.5), 2)\n",
        "upper_limit = round(np.percentile(boots_1_samples, 97.5), 2)\n",
        "print(f\"For Marital Status = 1 : 95% confidence interval is : {lower_limit} to {upper_limit}\")"
      ],
      "metadata": {
        "colab": {
          "base_uri": "https://localhost:8080/"
        },
        "id": "tv8SRCsIqp8a",
        "outputId": "54e1e67a-2bee-4c0a-b567-a0d053af06d2"
      },
      "execution_count": null,
      "outputs": [
        {
          "output_type": "stream",
          "name": "stdout",
          "text": [
            "For Marital Status = 0 : 95% confidence interval is : 8955.42 to 9575.67\n",
            "For Marital Status = 1 : 95% confidence interval is : 8958.35 to 9568.31\n"
          ]
        }
      ]
    },
    {
      "cell_type": "markdown",
      "source": [
        "# Insights about Marital Status:\n",
        "1. The distribution is almost overlaping, it means that, Marital Status does not affect the Purchasing Power of the customer.\n",
        "2. the 95 % Confidence Interval has so much overlapping\n",
        "3. The top category bought by male and female is also same.\n",
        "4. From the above analysis we can conclude that, Purchase made by Married or Unmarried Individual is not significant.\n",
        "5. Hence Marital Status does not hold much difference  in deciding the Purchase."
      ],
      "metadata": {
        "id": "EhxF-Me8rNnP"
      }
    },
    {
      "cell_type": "code",
      "source": [
        "## AGE"
      ],
      "metadata": {
        "id": "w7yqUHfirLAl"
      },
      "execution_count": null,
      "outputs": []
    },
    {
      "cell_type": "code",
      "source": [
        "x = df.groupby(['Age']).aggregate({'Purchase':['mean','median','min','max']})\n",
        "x.columns = ['-'.join(i) for i in x]\n",
        "x"
      ],
      "metadata": {
        "colab": {
          "base_uri": "https://localhost:8080/",
          "height": 300
        },
        "id": "-iE9H5M6sBUK",
        "outputId": "b857dfda-a2a4-4edb-fe7d-19859ec34695"
      },
      "execution_count": null,
      "outputs": [
        {
          "output_type": "execute_result",
          "data": {
            "text/plain": [
              "       Purchase-mean  Purchase-median  Purchase-min  Purchase-max\n",
              "Age                                                              \n",
              "0-17     8933.464640           7986.0            12         23955\n",
              "18-25    9169.663606           8027.0            12         23958\n",
              "26-35    9252.690633           8030.0            12         23961\n",
              "36-45    9331.350695           8061.0            12         23960\n",
              "46-50    9208.625697           8036.0            12         23960\n",
              "51-55    9534.808031           8130.0            12         23960\n",
              "55+      9336.280459           8105.5            12         23960"
            ],
            "text/html": [
              "\n",
              "  <div id=\"df-f6d4b81b-5d63-4548-9b86-65dffeac5111\">\n",
              "    <div class=\"colab-df-container\">\n",
              "      <div>\n",
              "<style scoped>\n",
              "    .dataframe tbody tr th:only-of-type {\n",
              "        vertical-align: middle;\n",
              "    }\n",
              "\n",
              "    .dataframe tbody tr th {\n",
              "        vertical-align: top;\n",
              "    }\n",
              "\n",
              "    .dataframe thead th {\n",
              "        text-align: right;\n",
              "    }\n",
              "</style>\n",
              "<table border=\"1\" class=\"dataframe\">\n",
              "  <thead>\n",
              "    <tr style=\"text-align: right;\">\n",
              "      <th></th>\n",
              "      <th>Purchase-mean</th>\n",
              "      <th>Purchase-median</th>\n",
              "      <th>Purchase-min</th>\n",
              "      <th>Purchase-max</th>\n",
              "    </tr>\n",
              "    <tr>\n",
              "      <th>Age</th>\n",
              "      <th></th>\n",
              "      <th></th>\n",
              "      <th></th>\n",
              "      <th></th>\n",
              "    </tr>\n",
              "  </thead>\n",
              "  <tbody>\n",
              "    <tr>\n",
              "      <th>0-17</th>\n",
              "      <td>8933.464640</td>\n",
              "      <td>7986.0</td>\n",
              "      <td>12</td>\n",
              "      <td>23955</td>\n",
              "    </tr>\n",
              "    <tr>\n",
              "      <th>18-25</th>\n",
              "      <td>9169.663606</td>\n",
              "      <td>8027.0</td>\n",
              "      <td>12</td>\n",
              "      <td>23958</td>\n",
              "    </tr>\n",
              "    <tr>\n",
              "      <th>26-35</th>\n",
              "      <td>9252.690633</td>\n",
              "      <td>8030.0</td>\n",
              "      <td>12</td>\n",
              "      <td>23961</td>\n",
              "    </tr>\n",
              "    <tr>\n",
              "      <th>36-45</th>\n",
              "      <td>9331.350695</td>\n",
              "      <td>8061.0</td>\n",
              "      <td>12</td>\n",
              "      <td>23960</td>\n",
              "    </tr>\n",
              "    <tr>\n",
              "      <th>46-50</th>\n",
              "      <td>9208.625697</td>\n",
              "      <td>8036.0</td>\n",
              "      <td>12</td>\n",
              "      <td>23960</td>\n",
              "    </tr>\n",
              "    <tr>\n",
              "      <th>51-55</th>\n",
              "      <td>9534.808031</td>\n",
              "      <td>8130.0</td>\n",
              "      <td>12</td>\n",
              "      <td>23960</td>\n",
              "    </tr>\n",
              "    <tr>\n",
              "      <th>55+</th>\n",
              "      <td>9336.280459</td>\n",
              "      <td>8105.5</td>\n",
              "      <td>12</td>\n",
              "      <td>23960</td>\n",
              "    </tr>\n",
              "  </tbody>\n",
              "</table>\n",
              "</div>\n",
              "      <button class=\"colab-df-convert\" onclick=\"convertToInteractive('df-f6d4b81b-5d63-4548-9b86-65dffeac5111')\"\n",
              "              title=\"Convert this dataframe to an interactive table.\"\n",
              "              style=\"display:none;\">\n",
              "        \n",
              "  <svg xmlns=\"http://www.w3.org/2000/svg\" height=\"24px\"viewBox=\"0 0 24 24\"\n",
              "       width=\"24px\">\n",
              "    <path d=\"M0 0h24v24H0V0z\" fill=\"none\"/>\n",
              "    <path d=\"M18.56 5.44l.94 2.06.94-2.06 2.06-.94-2.06-.94-.94-2.06-.94 2.06-2.06.94zm-11 1L8.5 8.5l.94-2.06 2.06-.94-2.06-.94L8.5 2.5l-.94 2.06-2.06.94zm10 10l.94 2.06.94-2.06 2.06-.94-2.06-.94-.94-2.06-.94 2.06-2.06.94z\"/><path d=\"M17.41 7.96l-1.37-1.37c-.4-.4-.92-.59-1.43-.59-.52 0-1.04.2-1.43.59L10.3 9.45l-7.72 7.72c-.78.78-.78 2.05 0 2.83L4 21.41c.39.39.9.59 1.41.59.51 0 1.02-.2 1.41-.59l7.78-7.78 2.81-2.81c.8-.78.8-2.07 0-2.86zM5.41 20L4 18.59l7.72-7.72 1.47 1.35L5.41 20z\"/>\n",
              "  </svg>\n",
              "      </button>\n",
              "      \n",
              "  <style>\n",
              "    .colab-df-container {\n",
              "      display:flex;\n",
              "      flex-wrap:wrap;\n",
              "      gap: 12px;\n",
              "    }\n",
              "\n",
              "    .colab-df-convert {\n",
              "      background-color: #E8F0FE;\n",
              "      border: none;\n",
              "      border-radius: 50%;\n",
              "      cursor: pointer;\n",
              "      display: none;\n",
              "      fill: #1967D2;\n",
              "      height: 32px;\n",
              "      padding: 0 0 0 0;\n",
              "      width: 32px;\n",
              "    }\n",
              "\n",
              "    .colab-df-convert:hover {\n",
              "      background-color: #E2EBFA;\n",
              "      box-shadow: 0px 1px 2px rgba(60, 64, 67, 0.3), 0px 1px 3px 1px rgba(60, 64, 67, 0.15);\n",
              "      fill: #174EA6;\n",
              "    }\n",
              "\n",
              "    [theme=dark] .colab-df-convert {\n",
              "      background-color: #3B4455;\n",
              "      fill: #D2E3FC;\n",
              "    }\n",
              "\n",
              "    [theme=dark] .colab-df-convert:hover {\n",
              "      background-color: #434B5C;\n",
              "      box-shadow: 0px 1px 3px 1px rgba(0, 0, 0, 0.15);\n",
              "      filter: drop-shadow(0px 1px 2px rgba(0, 0, 0, 0.3));\n",
              "      fill: #FFFFFF;\n",
              "    }\n",
              "  </style>\n",
              "\n",
              "      <script>\n",
              "        const buttonEl =\n",
              "          document.querySelector('#df-f6d4b81b-5d63-4548-9b86-65dffeac5111 button.colab-df-convert');\n",
              "        buttonEl.style.display =\n",
              "          google.colab.kernel.accessAllowed ? 'block' : 'none';\n",
              "\n",
              "        async function convertToInteractive(key) {\n",
              "          const element = document.querySelector('#df-f6d4b81b-5d63-4548-9b86-65dffeac5111');\n",
              "          const dataTable =\n",
              "            await google.colab.kernel.invokeFunction('convertToInteractive',\n",
              "                                                     [key], {});\n",
              "          if (!dataTable) return;\n",
              "\n",
              "          const docLinkHtml = 'Like what you see? Visit the ' +\n",
              "            '<a target=\"_blank\" href=https://colab.research.google.com/notebooks/data_table.ipynb>data table notebook</a>'\n",
              "            + ' to learn more about interactive tables.';\n",
              "          element.innerHTML = '';\n",
              "          dataTable['output_type'] = 'display_data';\n",
              "          await google.colab.output.renderOutput(dataTable, element);\n",
              "          const docLink = document.createElement('div');\n",
              "          docLink.innerHTML = docLinkHtml;\n",
              "          element.appendChild(docLink);\n",
              "        }\n",
              "      </script>\n",
              "    </div>\n",
              "  </div>\n",
              "  "
            ]
          },
          "metadata": {},
          "execution_count": 166
        }
      ]
    },
    {
      "cell_type": "code",
      "source": [
        "sns.kdeplot(x='Purchase', data=df, hue='Age')\n",
        "plt.show()"
      ],
      "metadata": {
        "colab": {
          "base_uri": "https://localhost:8080/",
          "height": 290
        },
        "id": "alyb9HhBsgN-",
        "outputId": "da70d8e9-6e0e-4ffc-ec64-2949bd3ae5ba"
      },
      "execution_count": null,
      "outputs": [
        {
          "output_type": "display_data",
          "data": {
            "text/plain": [
              "<Figure size 432x288 with 1 Axes>"
            ],
            "image/png": "[encoded data removed]"
          },
          "metadata": {
            "needs_background": "light"
          }
        }
      ]
    },
    {
      "cell_type": "code",
      "source": [
        "pd.crosstab(df['Product_Category'], df['Age']).head(5)\n"
      ],
      "metadata": {
        "colab": {
          "base_uri": "https://localhost:8080/",
          "height": 238
        },
        "id": "BrX7gpCWsrVg",
        "outputId": "dc7bcf39-ee1f-4d75-8fad-619cd03d1a0b"
      },
      "execution_count": null,
      "outputs": [
        {
          "output_type": "execute_result",
          "data": {
            "text/plain": [
              "Age               0-17  18-25  26-35  36-45  46-50  51-55   55+\n",
              "Product_Category                                               \n",
              "1                 3585  26962  58249  27648  10474   9049  4411\n",
              "2                  805   4428   8928   4912   2105   1781   905\n",
              "3                 1200   4710   7662   3854   1376    924   487\n",
              "4                  758   2463   4192   2354    990    678   318\n",
              "5                 4330  28522  61473  29377  11971   9893  5367"
            ],
            "text/html": [
              "\n",
              "  <div id=\"df-34012308-1cba-46c0-a2fa-550902e10fc9\">\n",
              "    <div class=\"colab-df-container\">\n",
              "      <div>\n",
              "<style scoped>\n",
              "    .dataframe tbody tr th:only-of-type {\n",
              "        vertical-align: middle;\n",
              "    }\n",
              "\n",
              "    .dataframe tbody tr th {\n",
              "        vertical-align: top;\n",
              "    }\n",
              "\n",
              "    .dataframe thead th {\n",
              "        text-align: right;\n",
              "    }\n",
              "</style>\n",
              "<table border=\"1\" class=\"dataframe\">\n",
              "  <thead>\n",
              "    <tr style=\"text-align: right;\">\n",
              "      <th>Age</th>\n",
              "      <th>0-17</th>\n",
              "      <th>18-25</th>\n",
              "      <th>26-35</th>\n",
              "      <th>36-45</th>\n",
              "      <th>46-50</th>\n",
              "      <th>51-55</th>\n",
              "      <th>55+</th>\n",
              "    </tr>\n",
              "    <tr>\n",
              "      <th>Product_Category</th>\n",
              "      <th></th>\n",
              "      <th></th>\n",
              "      <th></th>\n",
              "      <th></th>\n",
              "      <th></th>\n",
              "      <th></th>\n",
              "      <th></th>\n",
              "    </tr>\n",
              "  </thead>\n",
              "  <tbody>\n",
              "    <tr>\n",
              "      <th>1</th>\n",
              "      <td>3585</td>\n",
              "      <td>26962</td>\n",
              "      <td>58249</td>\n",
              "      <td>27648</td>\n",
              "      <td>10474</td>\n",
              "      <td>9049</td>\n",
              "      <td>4411</td>\n",
              "    </tr>\n",
              "    <tr>\n",
              "      <th>2</th>\n",
              "      <td>805</td>\n",
              "      <td>4428</td>\n",
              "      <td>8928</td>\n",
              "      <td>4912</td>\n",
              "      <td>2105</td>\n",
              "      <td>1781</td>\n",
              "      <td>905</td>\n",
              "    </tr>\n",
              "    <tr>\n",
              "      <th>3</th>\n",
              "      <td>1200</td>\n",
              "      <td>4710</td>\n",
              "      <td>7662</td>\n",
              "      <td>3854</td>\n",
              "      <td>1376</td>\n",
              "      <td>924</td>\n",
              "      <td>487</td>\n",
              "    </tr>\n",
              "    <tr>\n",
              "      <th>4</th>\n",
              "      <td>758</td>\n",
              "      <td>2463</td>\n",
              "      <td>4192</td>\n",
              "      <td>2354</td>\n",
              "      <td>990</td>\n",
              "      <td>678</td>\n",
              "      <td>318</td>\n",
              "    </tr>\n",
              "    <tr>\n",
              "      <th>5</th>\n",
              "      <td>4330</td>\n",
              "      <td>28522</td>\n",
              "      <td>61473</td>\n",
              "      <td>29377</td>\n",
              "      <td>11971</td>\n",
              "      <td>9893</td>\n",
              "      <td>5367</td>\n",
              "    </tr>\n",
              "  </tbody>\n",
              "</table>\n",
              "</div>\n",
              "      <button class=\"colab-df-convert\" onclick=\"convertToInteractive('df-34012308-1cba-46c0-a2fa-550902e10fc9')\"\n",
              "              title=\"Convert this dataframe to an interactive table.\"\n",
              "              style=\"display:none;\">\n",
              "        \n",
              "  <svg xmlns=\"http://www.w3.org/2000/svg\" height=\"24px\"viewBox=\"0 0 24 24\"\n",
              "       width=\"24px\">\n",
              "    <path d=\"M0 0h24v24H0V0z\" fill=\"none\"/>\n",
              "    <path d=\"M18.56 5.44l.94 2.06.94-2.06 2.06-.94-2.06-.94-.94-2.06-.94 2.06-2.06.94zm-11 1L8.5 8.5l.94-2.06 2.06-.94-2.06-.94L8.5 2.5l-.94 2.06-2.06.94zm10 10l.94 2.06.94-2.06 2.06-.94-2.06-.94-.94-2.06-.94 2.06-2.06.94z\"/><path d=\"M17.41 7.96l-1.37-1.37c-.4-.4-.92-.59-1.43-.59-.52 0-1.04.2-1.43.59L10.3 9.45l-7.72 7.72c-.78.78-.78 2.05 0 2.83L4 21.41c.39.39.9.59 1.41.59.51 0 1.02-.2 1.41-.59l7.78-7.78 2.81-2.81c.8-.78.8-2.07 0-2.86zM5.41 20L4 18.59l7.72-7.72 1.47 1.35L5.41 20z\"/>\n",
              "  </svg>\n",
              "      </button>\n",
              "      \n",
              "  <style>\n",
              "    .colab-df-container {\n",
              "      display:flex;\n",
              "      flex-wrap:wrap;\n",
              "      gap: 12px;\n",
              "    }\n",
              "\n",
              "    .colab-df-convert {\n",
              "      background-color: #E8F0FE;\n",
              "      border: none;\n",
              "      border-radius: 50%;\n",
              "      cursor: pointer;\n",
              "      display: none;\n",
              "      fill: #1967D2;\n",
              "      height: 32px;\n",
              "      padding: 0 0 0 0;\n",
              "      width: 32px;\n",
              "    }\n",
              "\n",
              "    .colab-df-convert:hover {\n",
              "      background-color: #E2EBFA;\n",
              "      box-shadow: 0px 1px 2px rgba(60, 64, 67, 0.3), 0px 1px 3px 1px rgba(60, 64, 67, 0.15);\n",
              "      fill: #174EA6;\n",
              "    }\n",
              "\n",
              "    [theme=dark] .colab-df-convert {\n",
              "      background-color: #3B4455;\n",
              "      fill: #D2E3FC;\n",
              "    }\n",
              "\n",
              "    [theme=dark] .colab-df-convert:hover {\n",
              "      background-color: #434B5C;\n",
              "      box-shadow: 0px 1px 3px 1px rgba(0, 0, 0, 0.15);\n",
              "      filter: drop-shadow(0px 1px 2px rgba(0, 0, 0, 0.3));\n",
              "      fill: #FFFFFF;\n",
              "    }\n",
              "  </style>\n",
              "\n",
              "      <script>\n",
              "        const buttonEl =\n",
              "          document.querySelector('#df-34012308-1cba-46c0-a2fa-550902e10fc9 button.colab-df-convert');\n",
              "        buttonEl.style.display =\n",
              "          google.colab.kernel.accessAllowed ? 'block' : 'none';\n",
              "\n",
              "        async function convertToInteractive(key) {\n",
              "          const element = document.querySelector('#df-34012308-1cba-46c0-a2fa-550902e10fc9');\n",
              "          const dataTable =\n",
              "            await google.colab.kernel.invokeFunction('convertToInteractive',\n",
              "                                                     [key], {});\n",
              "          if (!dataTable) return;\n",
              "\n",
              "          const docLinkHtml = 'Like what you see? Visit the ' +\n",
              "            '<a target=\"_blank\" href=https://colab.research.google.com/notebooks/data_table.ipynb>data table notebook</a>'\n",
              "            + ' to learn more about interactive tables.';\n",
              "          element.innerHTML = '';\n",
              "          dataTable['output_type'] = 'display_data';\n",
              "          await google.colab.output.renderOutput(dataTable, element);\n",
              "          const docLink = document.createElement('div');\n",
              "          docLink.innerHTML = docLinkHtml;\n",
              "          element.appendChild(docLink);\n",
              "        }\n",
              "      </script>\n",
              "    </div>\n",
              "  </div>\n",
              "  "
            ]
          },
          "metadata": {},
          "execution_count": 168
        }
      ]
    },
    {
      "cell_type": "code",
      "source": [
        "df['Age'].unique()"
      ],
      "metadata": {
        "colab": {
          "base_uri": "https://localhost:8080/"
        },
        "id": "REbhNFRFtZ2X",
        "outputId": "298b253a-b812-4650-db85-b20cad82ebb4"
      },
      "execution_count": null,
      "outputs": [
        {
          "output_type": "execute_result",
          "data": {
            "text/plain": [
              "array(['0-17', '55+', '26-35', '46-50', '51-55', '36-45', '18-25'],\n",
              "      dtype=object)"
            ]
          },
          "metadata": {},
          "execution_count": 169
        }
      ]
    },
    {
      "cell_type": "code",
      "source": [
        "_0_17_purchase = df.loc[df.Age == '0-17', :]['Purchase'].values\n",
        "_18_25_purchase = df.loc[df.Age == '18-25', :]['Purchase'].values\n",
        "_26_35_purchase = df.loc[df.Age == '26-35', :]['Purchase'].values\n",
        "_36_45_purchase = df.loc[df.Age == '36-45', :]['Purchase'].values\n",
        "_46_50_purchase = df.loc[df.Age == '46-50', :]['Purchase'].values\n",
        "_51_55_purchase = df.loc[df.Age == '51-55', :]['Purchase'].values\n",
        "_55plus_purchase = df.loc[df.Age == '55+', :]['Purchase'].values\n",
        "\n",
        "boot_0_17_purchase = bootstrapped(data=list(_0_17_purchase), sample_size=100, no_of_samples=10000)\n",
        "boot_18_25_purchase = bootstrapped(data=list(_18_25_purchase), sample_size=100, no_of_samples=10000)\n",
        "boot_26_35_purchase = bootstrapped(data=list(_26_35_purchase), sample_size=100, no_of_samples=10000)\n",
        "boot_36_45_purchase = bootstrapped(data=list(_36_45_purchase), sample_size=100, no_of_samples=10000)\n",
        "boot_46_50_purchase = bootstrapped(data=list(_46_50_purchase), sample_size=100, no_of_samples=10000)\n",
        "boot_51_55_purchase = bootstrapped(data=list(_51_55_purchase), sample_size=100, no_of_samples=10000)\n",
        "boot_55plus_purchase = bootstrapped(data=list(_55plus_purchase), sample_size=100, no_of_samples=10000)\n",
        "\n",
        "sns.kdeplot(boot_0_17_purchase, label='0_17')\n",
        "sns.kdeplot(boot_18_25_purchase, label='18_25')\n",
        "sns.kdeplot(boot_26_35_purchase, label='26_35')\n",
        "sns.kdeplot(boot_36_45_purchase, label='36_45')\n",
        "sns.kdeplot(boot_46_50_purchase, label='46_50')\n",
        "sns.kdeplot(boot_51_55_purchase, label='51_55')\n",
        "sns.kdeplot(boot_55plus_purchase, label='55+')\n",
        "\n",
        "plt.xlabel('Purchase')\n",
        "plt.legend()\n",
        "plt.show()\n"
      ],
      "metadata": {
        "colab": {
          "base_uri": "https://localhost:8080/",
          "height": 279
        },
        "id": "b2p30uSBteWh",
        "outputId": "4e13248b-3059-416c-9c93-ff0fc869ffb8"
      },
      "execution_count": null,
      "outputs": [
        {
          "output_type": "display_data",
          "data": {
            "text/plain": [
              "<Figure size 432x288 with 1 Axes>"
            ],
            "image/png": "[encoded data removed]"
          },
          "metadata": {
            "needs_background": "light"
          }
        }
      ]
    },
    {
      "cell_type": "code",
      "source": [
        "lower_limit = round(np.percentile(boot_0_17_purchase, 2.5), 2)\n",
        "upper_limit = round(np.percentile(boot_0_17_purchase, 97.5), 2)\n",
        "print(f\"The 95% confidence interval for 0-17 Age group is : {lower_limit} to {upper_limit}\")\n",
        "\n",
        "lower_limit = round(np.percentile(boot_18_25_purchase, 2.5), 2)\n",
        "upper_limit = round(np.percentile(boot_18_25_purchase, 97.5), 2)\n",
        "print(f\"The 95% confidence interval for 18-25 Age group is : {lower_limit} to {upper_limit}\")\n",
        "\n",
        "lower_limit = round(np.percentile(boot_26_35_purchase, 2.5), 2)\n",
        "upper_limit = round(np.percentile(boot_26_35_purchase, 97.5), 2)\n",
        "print(f\"The 95% confidence interval for 26-35 Age group is : {lower_limit} to {upper_limit}\")\n",
        "\n",
        "lower_limit = round(np.percentile(boot_36_45_purchase, 2.5), 2)\n",
        "upper_limit = round(np.percentile(boot_36_45_purchase, 97.5), 2)\n",
        "print(f\"The 95% confidence interval for 36-45 Age group is : {lower_limit} to {upper_limit}\")\n",
        "\n",
        "lower_limit = round(np.percentile(boot_46_50_purchase, 2.5), 2)\n",
        "upper_limit = round(np.percentile(boot_46_50_purchase, 97.5), 2)\n",
        "print(f\"The 95% confidence interval for 46-50 Age group is : {lower_limit} to {upper_limit}\")\n",
        "\n",
        "lower_limit = round(np.percentile(boot_51_55_purchase, 2.5), 2)\n",
        "upper_limit = round(np.percentile(boot_51_55_purchase, 97.5), 2)\n",
        "print(f\"The 95% confidence interval for 51-55 Age group is : {lower_limit} to {upper_limit}\")\n",
        "\n",
        "lower_limit = round(np.percentile(boot_55plus_purchase, 2.5), 2)\n",
        "upper_limit = round(np.percentile(boot_55plus_purchase, 97.5), 2)\n",
        "print(f\"The 95% confidence interval for 55+ Age group is : {lower_limit} to {upper_limit}\")\n"
      ],
      "metadata": {
        "colab": {
          "base_uri": "https://localhost:8080/"
        },
        "id": "ALKWcP3JvvPs",
        "outputId": "14d81929-e552-4f45-9805-36c54f7e9c33"
      },
      "execution_count": null,
      "outputs": [
        {
          "output_type": "stream",
          "name": "stdout",
          "text": [
            "The 95% confidence interval for 0-17 Age group is : 7955.28 to 9945.33\n",
            "The 95% confidence interval for 18-25 Age group is : 8198.31 to 10160.92\n",
            "The 95% confidence interval for 26-35 Age group is : 8284.15 to 10266.5\n",
            "The 95% confidence interval for 36-45 Age group is : 8349.64 to 10326.69\n",
            "The 95% confidence interval for 46-50 Age group is : 8259.65 to 10215.02\n",
            "The 95% confidence interval for 51-55 Age group is : 8546.46 to 10538.8\n",
            "The 95% confidence interval for 55+ Age group is : 8375.76 to 10304.99\n"
          ]
        }
      ]
    },
    {
      "cell_type": "markdown",
      "source": [
        "# Marital Status Findings:\n",
        "1. 1,5,8 are common Product categories in all the age groups.\n",
        "2. product category 6 is specific to 55+ age.\n",
        "3. the purchase distribution  has very much considerable amount of overlaping.\n",
        "4. We can concluside from our analysis that the difference in purchase made by different age group is not significant.\n",
        "5. Hence the age-group does not hold much difference in deciding the purchase.\n"
      ],
      "metadata": {
        "id": "bzpjJE65D2u2"
      }
    },
    {
      "cell_type": "code",
      "source": [
        "##CITY Category\n",
        "\n",
        "A = df.loc[df['City_Category']=='A', :]['Purchase'].values\n",
        "B = df.loc[df['City_Category']=='B', :]['Purchase'].values\n",
        "C = df.loc[df['City_Category']=='C', :]['Purchase'].values\n",
        "\n",
        "boot_A = bootstrapped(data=list(A), sample_size=100, no_of_samples=10000)\n",
        "boot_B = bootstrapped(data=list(B), sample_size=100, no_of_samples=10000)\n",
        "boot_C = bootstrapped(data=list(C), sample_size=100, no_of_samples=10000)\n",
        "\n",
        "\n",
        "sns.kdeplot(boot_A, label='A')\n",
        "sns.kdeplot(boot_B, label='B')\n",
        "sns.kdeplot(boot_C, label='C')\n",
        "\n",
        "plt.xlabel('Purchases')\n",
        "plt.legend()\n",
        "plt.show()\n"
      ],
      "metadata": {
        "colab": {
          "base_uri": "https://localhost:8080/",
          "height": 279
        },
        "id": "r1VIBEeBEvWN",
        "outputId": "9b39ca7b-3dec-4bc1-8aa5-75a634b3df58"
      },
      "execution_count": null,
      "outputs": [
        {
          "output_type": "display_data",
          "data": {
            "text/plain": [
              "<Figure size 432x288 with 1 Axes>"
            ],
            "image/png": "[encoded data removed]"
          },
          "metadata": {
            "needs_background": "light"
          }
        }
      ]
    },
    {
      "cell_type": "code",
      "source": [
        "lower_limit = round(np.percentile(boot_A, 2.5), 2)\n",
        "upper_limit = round(np.percentile(boot_A, 97.5), 2)\n",
        "print(f\"The 95% confidence interval for City_Category A purchases : {lower_limit} to {upper_limit}\")\n",
        "\n",
        "lower_limit = round(np.percentile(boot_B, 2.5), 2)\n",
        "upper_limit = round(np.percentile(boot_B, 97.5), 2)\n",
        "print(f\"The 95% confidence interval for City_Category B purchases : {lower_limit} to {upper_limit}\")\n",
        "\n",
        "lower_limit = round(np.percentile(boot_C, 2.5), 2)\n",
        "upper_limit = round(np.percentile(boot_C, 97.5), 2)\n",
        "print(f\"The 95% confidence interval for City_Category C purchases : {lower_limit} to {upper_limit}\")\n"
      ],
      "metadata": {
        "colab": {
          "base_uri": "https://localhost:8080/"
        },
        "id": "Cbga7kftFdnv",
        "outputId": "763d7c87-635e-413b-ebac-6b2907a5e5ca"
      },
      "execution_count": null,
      "outputs": [
        {
          "output_type": "stream",
          "name": "stdout",
          "text": [
            "The 95% confidence interval for City_Category A purchases : 7972.89 to 9915.72\n",
            "The 95% confidence interval for City_Category B purchases : 8192.75 to 10156.86\n",
            "The 95% confidence interval for City_Category C purchases : 8696.02 to 10740.17\n"
          ]
        }
      ]
    },
    {
      "cell_type": "code",
      "source": [],
      "metadata": {
        "id": "1ebJ8NCVF2f8"
      },
      "execution_count": null,
      "outputs": []
    },
    {
      "cell_type": "markdown",
      "source": [
        "## Findings for City Category\n",
        "1. Since the overlap of the confidence interval of Category C purchase is less with category B and Category A, we can say that the chances of people of City C make bigger purchases is more comparitively."
      ],
      "metadata": {
        "id": "Q588AJOOGAKM"
      }
    },
    {
      "cell_type": "code",
      "source": [],
      "metadata": {
        "id": "qqXQGCjwGaQo"
      },
      "execution_count": null,
      "outputs": []
    },
    {
      "cell_type": "markdown",
      "source": [
        "## Insights:\n",
        "1. The part of the people from age 26-35 comprises of 39.92%\n",
        "2. The part of the people from age 36-45 comprises of 19.99%\n",
        "3. The part of the people from age 18-25 comprises of 18.11%\n",
        "4. People who are staing in the current city from last 1 year accounts to 35% of all the customers.\n",
        "5. The purchase of city C is more than city A and city C.\n",
        "6. Product belongs to 1,5,8 are most purchased product.\n"
      ],
      "metadata": {
        "id": "m8XSNep8GgPO"
      }
    },
    {
      "cell_type": "markdown",
      "source": [
        "## Recommendation:\n",
        "\n",
        "1. The most popular categories are 1,8,5. Hence it recommended to have a stock cover and variety cover. Sales might see a good hike when few discounts and offers are created for these categories.\n",
        "\n",
        "2. As males spend more than female as found in data, there are more chances to increase the sale if offers are more availed for men products.\n",
        "\n",
        "3. Since most of the customers are from 26-35, there should not be any neglegence in the stock and varity cover for the age bracket."
      ],
      "metadata": {
        "id": "Eq1WZRrjGgLb"
      }
    },
    {
      "cell_type": "markdown",
      "source": [],
      "metadata": {
        "id": "3QxozWvtGfo8"
      }
    },
    {
      "cell_type": "markdown",
      "source": [],
      "metadata": {
        "id": "XMymCxD6Gfbr"
      }
    }
  ]
}